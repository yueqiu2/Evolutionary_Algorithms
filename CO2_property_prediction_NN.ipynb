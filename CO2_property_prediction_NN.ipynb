{
  "cells": [
    {
      "cell_type": "markdown",
      "metadata": {
        "id": "view-in-github",
        "colab_type": "text"
      },
      "source": [
        "<a href=\"https://colab.research.google.com/github/yueqiu2/Machine_Learning_Code/blob/main/CO2_property_prediction_NN.ipynb\" target=\"_parent\"><img src=\"https://colab.research.google.com/assets/colab-badge.svg\" alt=\"Open In Colab\"/></a>"
      ]
    },
    {
      "cell_type": "markdown",
      "metadata": {
        "id": "GIuBMr0FjbEW"
      },
      "source": [
        "# CO$_2$ property prediction\n",
        "\n",
        "In this coursework, you are given different experimental datasets of thermophysical fluid properties of CO$_2$, specifically vapour-liquid equilibrium data and PvT data for the supercritical region. The high-level objective is to be able to correlate the data in a way that one could interpolate the data in an analytical way, in a similar way that one might use an equation of state.\n",
        "\n",
        "You will find <font color='blue'>text in blue for a few simple planned **coding tasks** that you can implement.</font> with their relevant marks in <font color='red'> red </font>.\n",
        "Within the code cell, we suggest your implementation to be between the line:\n",
        "\n",
        "`============= Start of your code =============`\n",
        "\n",
        "and the line:\n",
        "\n",
        "`============= End of your code =============`.\n",
        "\n",
        "<font color='red'> Your answer here </font> are stand-ins for qualitative parts\n",
        "\n",
        "The marking points are included in <font color='red'> red </font>. A typical marking breakdown of a problem worth 5 marks would involve for example 3 marks for the goodness of the fit, 1 mark for the visualisation, and 1 mark for a comment on the fit.\n",
        "\n",
        "Let's start off by importing some packages. Feel free to import any additional packages you might consider useful.\n"
      ]
    },
    {
      "cell_type": "code",
      "execution_count": null,
      "metadata": {
        "id": "T81oSffGjZHM"
      },
      "outputs": [],
      "source": [
        "import numpy as np\n",
        "import pandas as pd\n",
        "import matplotlib.pyplot as plt\n",
        "\n",
        "from copy import deepcopy\n",
        "from scipy.optimize import minimize, differential_evolution\n",
        "\n",
        "# ============= Start of your code =============\n",
        "\n",
        "from sklearn.metrics import r2_score\n",
        "from sklearn.pipeline import make_pipeline\n",
        "from sklearn.preprocessing import StandardScaler\n",
        "from sklearn.neural_network import MLPRegressor\n",
        "from sklearn.metrics import confusion_matrix, ConfusionMatrixDisplay\n",
        "\n",
        "from copy import deepcopy\n",
        "\n",
        "from sklearn.linear_model import LinearRegression, Lasso, Ridge\n",
        "from sklearn import preprocessing\n",
        "from sklearn.model_selection import (\n",
        "    train_test_split,\n",
        "    cross_validate,\n",
        "    cross_val_predict,\n",
        "    validation_curve,\n",
        "    StratifiedShuffleSplit,\n",
        "    GridSearchCV)\n",
        "# ============= End of your code ============="
      ]
    },
    {
      "cell_type": "code",
      "source": [],
      "metadata": {
        "id": "AQSnkIO4FesI"
      },
      "execution_count": null,
      "outputs": []
    },
    {
      "cell_type": "markdown",
      "metadata": {
        "id": "uISiPw5xxtqx"
      },
      "source": [
        "# Vapour pressure prediction based on temperature <font color='red'> (25 pts) </font>\n",
        "\n",
        "First, let's load the datasets we will be considering."
      ]
    },
    {
      "cell_type": "code",
      "execution_count": null,
      "metadata": {
        "id": "O9pKMyaGYbqA"
      },
      "outputs": [],
      "source": [
        "directory_2 = \"https://raw.githubusercontent.com/OptiMaL-PSE-Lab/ML-course/master/VLE%20prediction/Data.xlsx\"\n",
        "directory_1 = \"https://raw.githubusercontent.com/OptiMaL-PSE-Lab/ML-course/master/VLE%20prediction/Test-Dataset%20(no%20noise).xlsx\"\n",
        "df_test = pd.read_excel(directory_1, sheet_name='Phase Envelope')\n",
        "df = pd.read_excel(directory_2, sheet_name='Phase Envelope')"
      ]
    },
    {
      "cell_type": "markdown",
      "metadata": {
        "id": "EGjy9MnjknIB"
      },
      "source": [
        "By printing off the first 10 rows of the pandas dataset, we can get a feeling for what the data will look like."
      ]
    },
    {
      "cell_type": "code",
      "execution_count": null,
      "metadata": {
        "colab": {
          "base_uri": "https://localhost:8080/",
          "height": 363
        },
        "id": "ABNMQNzxe-u3",
        "outputId": "9c05ad2c-19f7-4b0b-fa01-abc416e8be71"
      },
      "outputs": [
        {
          "output_type": "execute_result",
          "data": {
            "text/plain": [
              "   Temperature / K  Pressure / Pa  Liquid Density / (mol m^-3)  \\\n",
              "0           200.83     234473.909                    28466.551   \n",
              "1           203.44     275542.627                    27046.017   \n",
              "2           211.69     373071.925                    27340.958   \n",
              "3           217.11     477541.794                    25899.121   \n",
              "4           216.17     514717.737                    26022.943   \n",
              "5           219.16     590129.895                    26598.016   \n",
              "6           231.52     786878.590                    26189.589   \n",
              "7           231.71     874155.487                    25721.547   \n",
              "8           241.24    1393145.478                    24445.102   \n",
              "9           250.27    1663044.121                    23711.731   \n",
              "\n",
              "   Vapour Density / (mol m^-3)  \n",
              "0                      143.517  \n",
              "1                      171.653  \n",
              "2                      237.315  \n",
              "3                      278.248  \n",
              "4                      312.383  \n",
              "5                      340.323  \n",
              "6                      472.885  \n",
              "7                      516.340  \n",
              "8                      809.685  \n",
              "9                      977.451  "
            ],
            "text/html": [
              "\n",
              "  <div id=\"df-fc21f104-0144-4efd-837b-262de14bdea1\">\n",
              "    <div class=\"colab-df-container\">\n",
              "      <div>\n",
              "<style scoped>\n",
              "    .dataframe tbody tr th:only-of-type {\n",
              "        vertical-align: middle;\n",
              "    }\n",
              "\n",
              "    .dataframe tbody tr th {\n",
              "        vertical-align: top;\n",
              "    }\n",
              "\n",
              "    .dataframe thead th {\n",
              "        text-align: right;\n",
              "    }\n",
              "</style>\n",
              "<table border=\"1\" class=\"dataframe\">\n",
              "  <thead>\n",
              "    <tr style=\"text-align: right;\">\n",
              "      <th></th>\n",
              "      <th>Temperature / K</th>\n",
              "      <th>Pressure / Pa</th>\n",
              "      <th>Liquid Density / (mol m^-3)</th>\n",
              "      <th>Vapour Density / (mol m^-3)</th>\n",
              "    </tr>\n",
              "  </thead>\n",
              "  <tbody>\n",
              "    <tr>\n",
              "      <th>0</th>\n",
              "      <td>200.83</td>\n",
              "      <td>234473.909</td>\n",
              "      <td>28466.551</td>\n",
              "      <td>143.517</td>\n",
              "    </tr>\n",
              "    <tr>\n",
              "      <th>1</th>\n",
              "      <td>203.44</td>\n",
              "      <td>275542.627</td>\n",
              "      <td>27046.017</td>\n",
              "      <td>171.653</td>\n",
              "    </tr>\n",
              "    <tr>\n",
              "      <th>2</th>\n",
              "      <td>211.69</td>\n",
              "      <td>373071.925</td>\n",
              "      <td>27340.958</td>\n",
              "      <td>237.315</td>\n",
              "    </tr>\n",
              "    <tr>\n",
              "      <th>3</th>\n",
              "      <td>217.11</td>\n",
              "      <td>477541.794</td>\n",
              "      <td>25899.121</td>\n",
              "      <td>278.248</td>\n",
              "    </tr>\n",
              "    <tr>\n",
              "      <th>4</th>\n",
              "      <td>216.17</td>\n",
              "      <td>514717.737</td>\n",
              "      <td>26022.943</td>\n",
              "      <td>312.383</td>\n",
              "    </tr>\n",
              "    <tr>\n",
              "      <th>5</th>\n",
              "      <td>219.16</td>\n",
              "      <td>590129.895</td>\n",
              "      <td>26598.016</td>\n",
              "      <td>340.323</td>\n",
              "    </tr>\n",
              "    <tr>\n",
              "      <th>6</th>\n",
              "      <td>231.52</td>\n",
              "      <td>786878.590</td>\n",
              "      <td>26189.589</td>\n",
              "      <td>472.885</td>\n",
              "    </tr>\n",
              "    <tr>\n",
              "      <th>7</th>\n",
              "      <td>231.71</td>\n",
              "      <td>874155.487</td>\n",
              "      <td>25721.547</td>\n",
              "      <td>516.340</td>\n",
              "    </tr>\n",
              "    <tr>\n",
              "      <th>8</th>\n",
              "      <td>241.24</td>\n",
              "      <td>1393145.478</td>\n",
              "      <td>24445.102</td>\n",
              "      <td>809.685</td>\n",
              "    </tr>\n",
              "    <tr>\n",
              "      <th>9</th>\n",
              "      <td>250.27</td>\n",
              "      <td>1663044.121</td>\n",
              "      <td>23711.731</td>\n",
              "      <td>977.451</td>\n",
              "    </tr>\n",
              "  </tbody>\n",
              "</table>\n",
              "</div>\n",
              "      <button class=\"colab-df-convert\" onclick=\"convertToInteractive('df-fc21f104-0144-4efd-837b-262de14bdea1')\"\n",
              "              title=\"Convert this dataframe to an interactive table.\"\n",
              "              style=\"display:none;\">\n",
              "        \n",
              "  <svg xmlns=\"http://www.w3.org/2000/svg\" height=\"24px\"viewBox=\"0 0 24 24\"\n",
              "       width=\"24px\">\n",
              "    <path d=\"M0 0h24v24H0V0z\" fill=\"none\"/>\n",
              "    <path d=\"M18.56 5.44l.94 2.06.94-2.06 2.06-.94-2.06-.94-.94-2.06-.94 2.06-2.06.94zm-11 1L8.5 8.5l.94-2.06 2.06-.94-2.06-.94L8.5 2.5l-.94 2.06-2.06.94zm10 10l.94 2.06.94-2.06 2.06-.94-2.06-.94-.94-2.06-.94 2.06-2.06.94z\"/><path d=\"M17.41 7.96l-1.37-1.37c-.4-.4-.92-.59-1.43-.59-.52 0-1.04.2-1.43.59L10.3 9.45l-7.72 7.72c-.78.78-.78 2.05 0 2.83L4 21.41c.39.39.9.59 1.41.59.51 0 1.02-.2 1.41-.59l7.78-7.78 2.81-2.81c.8-.78.8-2.07 0-2.86zM5.41 20L4 18.59l7.72-7.72 1.47 1.35L5.41 20z\"/>\n",
              "  </svg>\n",
              "      </button>\n",
              "      \n",
              "  <style>\n",
              "    .colab-df-container {\n",
              "      display:flex;\n",
              "      flex-wrap:wrap;\n",
              "      gap: 12px;\n",
              "    }\n",
              "\n",
              "    .colab-df-convert {\n",
              "      background-color: #E8F0FE;\n",
              "      border: none;\n",
              "      border-radius: 50%;\n",
              "      cursor: pointer;\n",
              "      display: none;\n",
              "      fill: #1967D2;\n",
              "      height: 32px;\n",
              "      padding: 0 0 0 0;\n",
              "      width: 32px;\n",
              "    }\n",
              "\n",
              "    .colab-df-convert:hover {\n",
              "      background-color: #E2EBFA;\n",
              "      box-shadow: 0px 1px 2px rgba(60, 64, 67, 0.3), 0px 1px 3px 1px rgba(60, 64, 67, 0.15);\n",
              "      fill: #174EA6;\n",
              "    }\n",
              "\n",
              "    [theme=dark] .colab-df-convert {\n",
              "      background-color: #3B4455;\n",
              "      fill: #D2E3FC;\n",
              "    }\n",
              "\n",
              "    [theme=dark] .colab-df-convert:hover {\n",
              "      background-color: #434B5C;\n",
              "      box-shadow: 0px 1px 3px 1px rgba(0, 0, 0, 0.15);\n",
              "      filter: drop-shadow(0px 1px 2px rgba(0, 0, 0, 0.3));\n",
              "      fill: #FFFFFF;\n",
              "    }\n",
              "  </style>\n",
              "\n",
              "      <script>\n",
              "        const buttonEl =\n",
              "          document.querySelector('#df-fc21f104-0144-4efd-837b-262de14bdea1 button.colab-df-convert');\n",
              "        buttonEl.style.display =\n",
              "          google.colab.kernel.accessAllowed ? 'block' : 'none';\n",
              "\n",
              "        async function convertToInteractive(key) {\n",
              "          const element = document.querySelector('#df-fc21f104-0144-4efd-837b-262de14bdea1');\n",
              "          const dataTable =\n",
              "            await google.colab.kernel.invokeFunction('convertToInteractive',\n",
              "                                                     [key], {});\n",
              "          if (!dataTable) return;\n",
              "\n",
              "          const docLinkHtml = 'Like what you see? Visit the ' +\n",
              "            '<a target=\"_blank\" href=https://colab.research.google.com/notebooks/data_table.ipynb>data table notebook</a>'\n",
              "            + ' to learn more about interactive tables.';\n",
              "          element.innerHTML = '';\n",
              "          dataTable['output_type'] = 'display_data';\n",
              "          await google.colab.output.renderOutput(dataTable, element);\n",
              "          const docLink = document.createElement('div');\n",
              "          docLink.innerHTML = docLinkHtml;\n",
              "          element.appendChild(docLink);\n",
              "        }\n",
              "      </script>\n",
              "    </div>\n",
              "  </div>\n",
              "  "
            ]
          },
          "metadata": {},
          "execution_count": 3
        }
      ],
      "source": [
        "df[:10]"
      ]
    },
    {
      "cell_type": "markdown",
      "metadata": {
        "id": "VArktBgpky9o"
      },
      "source": [
        "The describe() function also gives high-level statistical information where we can explore any potential skewedness in the data.\n",
        "Note that in this case some of the statistical information is meaningless, as we are not searching for a mean value, but rather for a trend."
      ]
    },
    {
      "cell_type": "code",
      "execution_count": null,
      "metadata": {
        "colab": {
          "base_uri": "https://localhost:8080/",
          "height": 300
        },
        "id": "BwNDn2ZNZO3x",
        "outputId": "dddc3de8-32b3-4322-e026-30550f5e9371"
      },
      "outputs": [
        {
          "output_type": "execute_result",
          "data": {
            "text/plain": [
              "       Temperature / K  Pressure / Pa  Liquid Density / (mol m^-3)  \\\n",
              "count        17.000000   1.700000e+01                    17.000000   \n",
              "mean        242.404706   1.965774e+06                 23731.927294   \n",
              "std          29.318148   1.884307e+06                  3586.732910   \n",
              "min         200.830000   2.344739e+05                 15898.131000   \n",
              "25%         217.110000   5.147177e+05                 22331.663000   \n",
              "50%         241.240000   1.393145e+06                 24445.102000   \n",
              "75%         261.620000   2.467374e+06                 26189.589000   \n",
              "max         294.570000   6.166110e+06                 28466.551000   \n",
              "\n",
              "       Vapour Density / (mol m^-3)  \n",
              "count                    17.000000  \n",
              "mean                   1305.053706  \n",
              "std                    1455.493992  \n",
              "min                     143.517000  \n",
              "25%                     312.383000  \n",
              "50%                     809.685000  \n",
              "75%                    1416.887000  \n",
              "max                    5229.166000  "
            ],
            "text/html": [
              "\n",
              "  <div id=\"df-420bc52d-b3a1-4963-b352-27c85b90de48\">\n",
              "    <div class=\"colab-df-container\">\n",
              "      <div>\n",
              "<style scoped>\n",
              "    .dataframe tbody tr th:only-of-type {\n",
              "        vertical-align: middle;\n",
              "    }\n",
              "\n",
              "    .dataframe tbody tr th {\n",
              "        vertical-align: top;\n",
              "    }\n",
              "\n",
              "    .dataframe thead th {\n",
              "        text-align: right;\n",
              "    }\n",
              "</style>\n",
              "<table border=\"1\" class=\"dataframe\">\n",
              "  <thead>\n",
              "    <tr style=\"text-align: right;\">\n",
              "      <th></th>\n",
              "      <th>Temperature / K</th>\n",
              "      <th>Pressure / Pa</th>\n",
              "      <th>Liquid Density / (mol m^-3)</th>\n",
              "      <th>Vapour Density / (mol m^-3)</th>\n",
              "    </tr>\n",
              "  </thead>\n",
              "  <tbody>\n",
              "    <tr>\n",
              "      <th>count</th>\n",
              "      <td>17.000000</td>\n",
              "      <td>1.700000e+01</td>\n",
              "      <td>17.000000</td>\n",
              "      <td>17.000000</td>\n",
              "    </tr>\n",
              "    <tr>\n",
              "      <th>mean</th>\n",
              "      <td>242.404706</td>\n",
              "      <td>1.965774e+06</td>\n",
              "      <td>23731.927294</td>\n",
              "      <td>1305.053706</td>\n",
              "    </tr>\n",
              "    <tr>\n",
              "      <th>std</th>\n",
              "      <td>29.318148</td>\n",
              "      <td>1.884307e+06</td>\n",
              "      <td>3586.732910</td>\n",
              "      <td>1455.493992</td>\n",
              "    </tr>\n",
              "    <tr>\n",
              "      <th>min</th>\n",
              "      <td>200.830000</td>\n",
              "      <td>2.344739e+05</td>\n",
              "      <td>15898.131000</td>\n",
              "      <td>143.517000</td>\n",
              "    </tr>\n",
              "    <tr>\n",
              "      <th>25%</th>\n",
              "      <td>217.110000</td>\n",
              "      <td>5.147177e+05</td>\n",
              "      <td>22331.663000</td>\n",
              "      <td>312.383000</td>\n",
              "    </tr>\n",
              "    <tr>\n",
              "      <th>50%</th>\n",
              "      <td>241.240000</td>\n",
              "      <td>1.393145e+06</td>\n",
              "      <td>24445.102000</td>\n",
              "      <td>809.685000</td>\n",
              "    </tr>\n",
              "    <tr>\n",
              "      <th>75%</th>\n",
              "      <td>261.620000</td>\n",
              "      <td>2.467374e+06</td>\n",
              "      <td>26189.589000</td>\n",
              "      <td>1416.887000</td>\n",
              "    </tr>\n",
              "    <tr>\n",
              "      <th>max</th>\n",
              "      <td>294.570000</td>\n",
              "      <td>6.166110e+06</td>\n",
              "      <td>28466.551000</td>\n",
              "      <td>5229.166000</td>\n",
              "    </tr>\n",
              "  </tbody>\n",
              "</table>\n",
              "</div>\n",
              "      <button class=\"colab-df-convert\" onclick=\"convertToInteractive('df-420bc52d-b3a1-4963-b352-27c85b90de48')\"\n",
              "              title=\"Convert this dataframe to an interactive table.\"\n",
              "              style=\"display:none;\">\n",
              "        \n",
              "  <svg xmlns=\"http://www.w3.org/2000/svg\" height=\"24px\"viewBox=\"0 0 24 24\"\n",
              "       width=\"24px\">\n",
              "    <path d=\"M0 0h24v24H0V0z\" fill=\"none\"/>\n",
              "    <path d=\"M18.56 5.44l.94 2.06.94-2.06 2.06-.94-2.06-.94-.94-2.06-.94 2.06-2.06.94zm-11 1L8.5 8.5l.94-2.06 2.06-.94-2.06-.94L8.5 2.5l-.94 2.06-2.06.94zm10 10l.94 2.06.94-2.06 2.06-.94-2.06-.94-.94-2.06-.94 2.06-2.06.94z\"/><path d=\"M17.41 7.96l-1.37-1.37c-.4-.4-.92-.59-1.43-.59-.52 0-1.04.2-1.43.59L10.3 9.45l-7.72 7.72c-.78.78-.78 2.05 0 2.83L4 21.41c.39.39.9.59 1.41.59.51 0 1.02-.2 1.41-.59l7.78-7.78 2.81-2.81c.8-.78.8-2.07 0-2.86zM5.41 20L4 18.59l7.72-7.72 1.47 1.35L5.41 20z\"/>\n",
              "  </svg>\n",
              "      </button>\n",
              "      \n",
              "  <style>\n",
              "    .colab-df-container {\n",
              "      display:flex;\n",
              "      flex-wrap:wrap;\n",
              "      gap: 12px;\n",
              "    }\n",
              "\n",
              "    .colab-df-convert {\n",
              "      background-color: #E8F0FE;\n",
              "      border: none;\n",
              "      border-radius: 50%;\n",
              "      cursor: pointer;\n",
              "      display: none;\n",
              "      fill: #1967D2;\n",
              "      height: 32px;\n",
              "      padding: 0 0 0 0;\n",
              "      width: 32px;\n",
              "    }\n",
              "\n",
              "    .colab-df-convert:hover {\n",
              "      background-color: #E2EBFA;\n",
              "      box-shadow: 0px 1px 2px rgba(60, 64, 67, 0.3), 0px 1px 3px 1px rgba(60, 64, 67, 0.15);\n",
              "      fill: #174EA6;\n",
              "    }\n",
              "\n",
              "    [theme=dark] .colab-df-convert {\n",
              "      background-color: #3B4455;\n",
              "      fill: #D2E3FC;\n",
              "    }\n",
              "\n",
              "    [theme=dark] .colab-df-convert:hover {\n",
              "      background-color: #434B5C;\n",
              "      box-shadow: 0px 1px 3px 1px rgba(0, 0, 0, 0.15);\n",
              "      filter: drop-shadow(0px 1px 2px rgba(0, 0, 0, 0.3));\n",
              "      fill: #FFFFFF;\n",
              "    }\n",
              "  </style>\n",
              "\n",
              "      <script>\n",
              "        const buttonEl =\n",
              "          document.querySelector('#df-420bc52d-b3a1-4963-b352-27c85b90de48 button.colab-df-convert');\n",
              "        buttonEl.style.display =\n",
              "          google.colab.kernel.accessAllowed ? 'block' : 'none';\n",
              "\n",
              "        async function convertToInteractive(key) {\n",
              "          const element = document.querySelector('#df-420bc52d-b3a1-4963-b352-27c85b90de48');\n",
              "          const dataTable =\n",
              "            await google.colab.kernel.invokeFunction('convertToInteractive',\n",
              "                                                     [key], {});\n",
              "          if (!dataTable) return;\n",
              "\n",
              "          const docLinkHtml = 'Like what you see? Visit the ' +\n",
              "            '<a target=\"_blank\" href=https://colab.research.google.com/notebooks/data_table.ipynb>data table notebook</a>'\n",
              "            + ' to learn more about interactive tables.';\n",
              "          element.innerHTML = '';\n",
              "          dataTable['output_type'] = 'display_data';\n",
              "          await google.colab.output.renderOutput(dataTable, element);\n",
              "          const docLink = document.createElement('div');\n",
              "          docLink.innerHTML = docLinkHtml;\n",
              "          element.appendChild(docLink);\n",
              "        }\n",
              "      </script>\n",
              "    </div>\n",
              "  </div>\n",
              "  "
            ]
          },
          "metadata": {},
          "execution_count": 4
        }
      ],
      "source": [
        "df.describe()"
      ]
    },
    {
      "cell_type": "code",
      "execution_count": null,
      "metadata": {
        "id": "07s5BhYEfTdw"
      },
      "outputs": [],
      "source": [
        "df_array = df.values\n",
        "df_test_array = df_test.values"
      ]
    },
    {
      "cell_type": "markdown",
      "metadata": {
        "id": "ML-XXepWlDEy"
      },
      "source": [
        "We convert the pandas dataset to a numpy array, and extract equilibrium temperature from the first column as the independent and pressure from the second column as the dependent variables."
      ]
    },
    {
      "cell_type": "code",
      "execution_count": null,
      "metadata": {
        "id": "zxtflicGdiiE"
      },
      "outputs": [],
      "source": [
        "x = df_array[:,0]\n",
        "y = df_array[:,1]\n",
        "x_test = df_test_array[:,0]\n",
        "y_test = df_test_array[:,1]"
      ]
    },
    {
      "cell_type": "code",
      "execution_count": null,
      "metadata": {
        "colab": {
          "base_uri": "https://localhost:8080/",
          "height": 307
        },
        "id": "LcAu3Cgff9QN",
        "outputId": "5201247c-14ee-43b2-b85a-483530d14547"
      },
      "outputs": [
        {
          "output_type": "execute_result",
          "data": {
            "text/plain": [
              "Text(0, 0.5, 'Pressure in Pa')"
            ]
          },
          "metadata": {},
          "execution_count": 7
        },
        {
          "output_type": "display_data",
          "data": {
            "text/plain": [
              "<Figure size 432x288 with 1 Axes>"
            ],
            "image/png": "[encoded data removed]"
          },
          "metadata": {
            "needs_background": "light"
          }
        }
      ],
      "source": [
        "plt.scatter(x, y)\n",
        "plt.xlabel('Temperature in K')\n",
        "plt.ylabel('Pressure in Pa')"
      ]
    },
    {
      "cell_type": "markdown",
      "metadata": {
        "id": "NTbUJy1jluLT"
      },
      "source": [
        "<font color='blue'> As a first step, fit a simple linear regression (without standardisation) on the training data. Visualize and comment on the fit. Report (print) the training and testing score(s). For this task, you can either use scikit-learn, or you can implement the formula we saw in class. </font>  <font color='red'> (5 pts.) </font>"
      ]
    },
    {
      "cell_type": "code",
      "execution_count": null,
      "metadata": {
        "colab": {
          "base_uri": "https://localhost:8080/",
          "height": 325
        },
        "id": "61HlycpAgIp1",
        "outputId": "5644ac46-d8c8-46c1-e734-30f23b9bfa23"
      },
      "outputs": [
        {
          "output_type": "stream",
          "name": "stdout",
          "text": [
            "R squared value on training set: 0.904\n",
            "R squared value on test set: 0.916\n"
          ]
        },
        {
          "output_type": "display_data",
          "data": {
            "text/plain": [
              "<Figure size 432x288 with 1 Axes>"
            ],
            "image/png": "[encoded data removed]"
          },
          "metadata": {
            "needs_background": "light"
          }
        }
      ],
      "source": [
        "# ============= Start of your code =============\n",
        "# reshape training data to 2D\n",
        "x = np.array(x).reshape(len(x), 1)\n",
        "y = np.array(y).reshape(len(y), 1)\n",
        "\n",
        "# reshape test data to 2D\n",
        "x_test = x_test.reshape(len(x_test), -1)\n",
        "y_test = y_test.reshape(len(y_test), -1)\n",
        "\n",
        "# linear regression: model training\n",
        "T_P_model = LinearRegression()\n",
        "T_P_model.fit(x, y)\n",
        "\n",
        "# linear regression: evaluation\n",
        "train_score = T_P_model.score(x, y)\n",
        "test_score = T_P_model.score(x_test, y_test)\n",
        "print(f\"R squared value on training set: {train_score:.3f}\")\n",
        "print(f\"R squared value on test set: {test_score:.3f}\")\n",
        "\n",
        "# linear regression: predict\n",
        "T_P_predict = T_P_model.predict(x)\n",
        "# plot: predict\n",
        "plt.plot(x, T_P_predict, c='c')  # c = color\n",
        "# plot: training & test set\n",
        "plt.scatter(x.squeeze(), y.squeeze(), label='Training')\n",
        "plt.scatter(x_test.squeeze(), y_test.squeeze(), label='Test')\n",
        "\n",
        "plt.xlabel('T/K', fontsize=10)\n",
        "plt.ylabel('P/Pa', fontsize=10)\n",
        "plt.legend()\n",
        "plt.show()\n",
        "# ============= End of your code ============="
      ]
    },
    {
      "cell_type": "markdown",
      "source": [
        "<font color='red'> Your answer here </font>"
      ],
      "metadata": {
        "id": "hrp0BjVQKLTp"
      }
    },
    {
      "cell_type": "markdown",
      "source": [
        "* Although we have a relatively reasonable correlation coefficient R2, the shape of our model is linear while the image of actual dataset is a curve. Thus, the model cannot provide a decent fit of the data."
      ],
      "metadata": {
        "id": "f7Z_ADknixli"
      }
    },
    {
      "cell_type": "markdown",
      "metadata": {
        "id": "NqFexfxGmNVY"
      },
      "source": [
        "Note how, in spite of having some reasonable correlation coefficient R$^2$, we can see by \"eye\" that we are not doing a great job fitting the data.\n",
        "\n",
        "<font color='blue'> Now, repeat this task including visualization and score reporting, but where the data is standardised before fitting. Does this improve the fit? </font> <font color='red'> (5 pts) </font>\n",
        "\n",
        "(2 pts for standardizing, 3 pts for rest of task)\n"
      ]
    },
    {
      "cell_type": "code",
      "execution_count": null,
      "metadata": {
        "colab": {
          "base_uri": "https://localhost:8080/",
          "height": 314
        },
        "id": "H9I-OXTs3UpV",
        "outputId": "b911e97d-76fb-4139-89a3-be8a72d13f7a"
      },
      "outputs": [
        {
          "output_type": "display_data",
          "data": {
            "text/plain": [
              "<Figure size 432x288 with 1 Axes>"
            ],
            "image/png": "[encoded data removed]"
          },
          "metadata": {
            "needs_background": "light"
          }
        },
        {
          "output_type": "stream",
          "name": "stdout",
          "text": [
            "R squared value on std training set(standard): 0.904\n",
            "R squared value on std test set(standard): 0.917\n"
          ]
        }
      ],
      "source": [
        "# ============= Start of your code =============\n",
        "# standardization\n",
        "x_std = preprocessing.scale(x)\n",
        "y_std = preprocessing.scale(y)\n",
        "x_std_test = preprocessing.scale(x_test)\n",
        "y_std_test = preprocessing.scale(y_test)\n",
        "\n",
        "# linear regression: training (standardization)\n",
        "T_P_model_std = LinearRegression()\n",
        "T_P_model_std.fit(x_std, y_std)\n",
        "\n",
        "# plot: predict (std)\n",
        "T_P_predict_std = T_P_model_std.predict(x_std)\n",
        "plt.plot(x_std, T_P_predict_std, c='c')  # c = color\n",
        "\n",
        "# plot: training set & test set (std)\n",
        "plt.scatter(x_std.squeeze(), y_std.squeeze(), label='Training-std')\n",
        "plt.scatter(x_std_test.squeeze(), y_std_test.squeeze(), label='Test-std')\n",
        "\n",
        "plt.xlabel('T/K', fontsize=10)\n",
        "plt.ylabel('P/Pa', fontsize=10)\n",
        "plt.legend()\n",
        "plt.show()\n",
        "\n",
        "# linear regression: evaluation (std)\n",
        "score_LR_TP_train_std = T_P_model_std.score(x_std, y_std)           # training set\n",
        "score_LR_TP_test_std = T_P_model_std.score(x_std_test, y_std_test)  # test set\n",
        "print(f\"R squared value on std training set(standard): {score_LR_TP_train_std:.3f}\")\n",
        "print(f\"R squared value on std test set(standard): {score_LR_TP_test_std:.3f}\")\n",
        "# ============= End of your code ============="
      ]
    },
    {
      "cell_type": "markdown",
      "source": [
        "<font color='red'> Your answer here </font>\n",
        "\n",
        "* There is no visible changes in R squared value after standardization, which indicates standardization does not improve the fit."
      ],
      "metadata": {
        "id": "nHq1CAXULD0-"
      }
    },
    {
      "cell_type": "markdown",
      "metadata": {
        "id": "UZsPRQLcoKna"
      },
      "source": [
        "Preprocessing (standardising, ...) is usually a crucial step in data science and Machine Learning pipelines. <font color='blue'>\n",
        " Why does preprocessing seemingly have no effect on linear regression? How does this change with the addition of regularization terms (lasso, ridge regression)? </font> The answer to this could be quantitative or qualitative <font color='red'> (5 pts) </font>"
      ]
    },
    {
      "cell_type": "code",
      "source": [
        "# ============= Start of your code =============\n",
        "\n",
        "'''standardization'''\n",
        "scaler = StandardScaler()\n",
        "x_std = scaler.fit_transform(x)\n",
        "y_std = scaler.fit_transform(y)\n",
        "x_test_std = scaler.fit_transform(x_test)\n",
        "y_test_std = scaler.fit_transform(y_test)\n",
        "\n",
        "'''lasso'''\n",
        "# lasso regression model\n",
        "lasso = Lasso(alpha=0.1)\n",
        "\n",
        "# fit data without standardization\n",
        "lasso.fit(x, y)\n",
        "# get score without standardization\n",
        "lasso_training_score = lasso.score(x, y)\n",
        "lasso_test_score = lasso.score(x_test, y_test)\n",
        "\n",
        "# fit data with standardization\n",
        "lasso.fit(x_std, y_std)\n",
        "# get score with standardization\n",
        "lasso_training_score_std = lasso.score(x_std, y_std)\n",
        "lasso_test_score_std = lasso.score(x_test_std, y_test_std)\n",
        "\n",
        "'''ridge'''\n",
        "# ridge regression model\n",
        "ridge = Ridge(alpha=1)\n",
        "\n",
        "# fit data without standardization\n",
        "ridge.fit(x, y)\n",
        "# get score without standardization\n",
        "ridge_training_score = ridge.score(x, y)\n",
        "ridge_test_score = ridge.score(x_test, y_test)\n",
        "\n",
        "# fit data with standardization\n",
        "ridge.fit(x_std, y_std)\n",
        "# get score without standardization\n",
        "ridge_training_score_std = ridge.score(x_std, y_std)\n",
        "ridge_test_score_std = ridge.score(x_test_std, y_test_std)\n",
        "\n",
        "'''print score'''\n",
        "print(f\"lasso_training_score: {lasso_training_score:.3f}\")\n",
        "print(f\"lasso_test_score: {lasso_test_score:.3f}\"'\\n')\n",
        "\n",
        "print(f\"lasso_training_score_std: {lasso_training_score_std:.3f}\")\n",
        "print(f\"lasso_test_score_std: {lasso_test_score_std:.3f}\"'\\n')\n",
        "\n",
        "print(f\"ridge_training_score: {ridge_training_score:.3f}\")\n",
        "print(f\"ridge_test_score: {ridge_test_score:.3f}\"'\\n')\n",
        "\n",
        "print(f\"ridge_training_score_std: {ridge_training_score_std:.3f}\")\n",
        "print(f\"ridge_test_score_std: {ridge_test_score_std:.3f}\")\n",
        "# ============= End of your code ============="
      ],
      "metadata": {
        "id": "YeAzzQiQPj20",
        "colab": {
          "base_uri": "https://localhost:8080/"
        },
        "outputId": "a815b383-8e88-478d-cd48-721fd8ab0c70"
      },
      "execution_count": null,
      "outputs": [
        {
          "output_type": "stream",
          "name": "stdout",
          "text": [
            "lasso_training_score: 0.904\n",
            "lasso_test_score: 0.916\n",
            "\n",
            "lasso_training_score_std: 0.894\n",
            "lasso_test_score_std: 0.905\n",
            "\n",
            "ridge_training_score: 0.904\n",
            "ridge_test_score: 0.916\n",
            "\n",
            "ridge_training_score_std: 0.901\n",
            "ridge_test_score_std: 0.913\n"
          ]
        }
      ]
    },
    {
      "cell_type": "markdown",
      "source": [
        "<font color='red'> Your answer here </font>\n",
        "\n",
        "* Standardization is a form of linear transformation, which is a process of putting different variables on the same scale and near the origin.\n",
        "* Since linear relation of the data before or after linear transformation remains the same, R2 squared value remains the same even slope and intercept of the model change. Therefore, standardization has no effect on linear regression.\n",
        "\n",
        "* As shown above, R squared scores of Lasso and Ridge regression both decreased after standardization.\n",
        "* Penalty functions of both Lasso and Ridge are associated with the norms of coefficients. After scaling, changes of data lead to changes of coefficients, causing changes of norms, penalty functions, and objective functions in lasso/ridge regression.\n",
        "* Variations of norms are not linear to data changes caused by standardization, which means the consistency of linear relation of lasso/ridge objective functions before and after scaling will not be maintained. Thus, R squared scores will change.\n",
        "\n"
      ],
      "metadata": {
        "id": "crYG2hhsLqMo"
      }
    },
    {
      "cell_type": "markdown",
      "metadata": {
        "id": "FCEDvr9LrcGb"
      },
      "source": [
        "<font color='blue'>\n",
        "Using the full data set df_full, split the data into a training and test set, and fit a neural network to map the pressure as a function of temperature. You may use any of the following libraries: numpy, scipy, pandas, scikit-learn, pytorch. Remember that you can change some hyperparameters to improve the fit (hint: use an initial learning rate of 1). </font> <font color='red'> (5 pts) </font>\n",
        "\n",
        "Also, remember that you are highly encouraged to set random seeds/states in your models for results to be reproducible."
      ]
    },
    {
      "cell_type": "code",
      "execution_count": null,
      "metadata": {
        "id": "uc4nHaJNDX9b"
      },
      "outputs": [],
      "source": [
        "directory = \"https://raw.githubusercontent.com/OptiMaL-PSE-Lab/ML-course/master/VLE%20prediction/Full-Dataset%20(no%20noise).xlsx\"\n",
        "df_full = pd.read_excel(directory, sheet_name='Phase Envelope')"
      ]
    },
    {
      "cell_type": "code",
      "execution_count": null,
      "metadata": {
        "colab": {
          "base_uri": "https://localhost:8080/",
          "height": 400
        },
        "id": "s9TJUsN_NKLE",
        "outputId": "001261ac-af30-4871-8bac-052af849f66c"
      },
      "outputs": [
        {
          "output_type": "stream",
          "name": "stderr",
          "text": [
            "/usr/local/lib/python3.8/dist-packages/sklearn/neural_network/_multilayer_perceptron.py:692: ConvergenceWarning: Stochastic Optimizer: Maximum iterations (200) reached and the optimization hasn't converged yet.\n",
            "  warnings.warn(\n"
          ]
        },
        {
          "output_type": "stream",
          "name": "stdout",
          "text": [
            "{'fit_time': array([0.039505  , 0.04822946, 0.03768945, 0.22965384, 0.76256371]), 'score_time': array([0.00089979, 0.0008707 , 0.00085497, 0.00089169, 0.0010066 ]), 'test_score': array([  0.11198227, -19.59570063,  -0.70338336,   0.99548203,\n",
            "         0.3623151 ]), 'train_score': array([0.92327275, 0.91791121, 0.91126924, 0.99714352, 0.99981874])}\n"
          ]
        },
        {
          "output_type": "display_data",
          "data": {
            "text/plain": [
              "<Figure size 432x288 with 1 Axes>"
            ],
            "image/png": "[encoded data removed]"
          },
          "metadata": {
            "needs_background": "light"
          }
        },
        {
          "output_type": "stream",
          "name": "stdout",
          "text": [
            "R2 score on training set: 1.000\n",
            "R2 score on test set: 1.000\n"
          ]
        }
      ],
      "source": [
        "# ============= Start of your code =============\n",
        "# cross validation: 5-fold\n",
        "cv_N = 5\n",
        "\n",
        "# obtain data values\n",
        "df_array = df_full.values\n",
        "X = df_array[:, 0]  # Temperature\n",
        "y = df_array[:, 1]  # Pressure\n",
        "# reshape data to 2D\n",
        "X = np.array(X).reshape(len(X), 1)\n",
        "y = np.array(y)\n",
        "\n",
        "# spilt data: training set & test set\n",
        "X_train, X_test, y_train, y_test = train_test_split(X, y, random_state=10)\n",
        "\n",
        "# neural network\n",
        "TP_nn1 = make_pipeline(\n",
        "    StandardScaler(),\n",
        "    MLPRegressor(\n",
        "        hidden_layer_sizes=(100,100),\n",
        "        random_state=10,\n",
        "        learning_rate='constant',\n",
        "        learning_rate_init=1,\n",
        "        batch_size=32)\n",
        ")\n",
        "# neural network: training\n",
        "TP_nn1.fit(X, y)\n",
        "\n",
        "# neural network: cross validation\n",
        "score_nn1 = cross_validate(TP_nn1, X, y, cv=cv_N, return_train_score=True)\n",
        "print(score_nn1)\n",
        "\n",
        "# neural network: predict\n",
        "TP_nn1_predict = TP_nn1.predict(X)               # full data\n",
        "TP_nn1_predict_train = TP_nn1.predict(X_train)   # training set\n",
        "TP_nn1_predict_test = TP_nn1.predict(X_test)     # test set\n",
        "# plot: predict\n",
        "plt.plot(X, TP_nn1_predict)\n",
        "# plot: training set & test set\n",
        "plt.scatter(X_train, y_train, label='Training-NN', c='#5ba4f0')  # training set\n",
        "plt.scatter(X_test, y_test, label='Test-NN', c='#ffcf4f')        # test set\n",
        "\n",
        "plt.legend()\n",
        "plt.show()\n",
        "\n",
        "# R2 score: training set & test set\n",
        "train_score = r2_score(y_train, TP_nn1_predict_train)  # training set\n",
        "test_score = r2_score(y_test, TP_nn1_predict_test)     # test set\n",
        "print(f'R2 score on training set: {train_score:.3f}')\n",
        "print(f\"R2 score on test set: {test_score:.3f}\")\n",
        "# ============= End of your code ============="
      ]
    },
    {
      "cell_type": "markdown",
      "metadata": {
        "id": "AsEzkWP1orxr"
      },
      "source": [
        "You search through your thermodynamics classnotes, and stumble upon the Clausius-Clapeyron relation:\n",
        "\n",
        "$$ln(\\frac{P_2}{P_1}) = -\\frac{\\Delta H_R}{R} (\\frac{1}{T_2} - \\frac{1}{T_1})$$\n",
        "\n",
        "Using the temperature and pressure from the df and df_test datasets, construct new independent and dependent features that can be easily related using linear regression. How does the neural network fit compare to the thermodynamics-informed linear regression? <font color='red'> (5 pts) </font>\n"
      ]
    },
    {
      "cell_type": "code",
      "source": [
        "directory_2 = \"https://raw.githubusercontent.com/OptiMaL-PSE-Lab/ML-course/master/VLE%20prediction/Data.xlsx\"\n",
        "directory_1 = \"https://raw.githubusercontent.com/OptiMaL-PSE-Lab/ML-course/master/VLE%20prediction/Test-Dataset%20(no%20noise).xlsx\"\n",
        "df_test = pd.read_excel(directory_1, sheet_name='Phase Envelope')\n",
        "df = pd.read_excel(directory_2, sheet_name='Phase Envelope')"
      ],
      "metadata": {
        "id": "jNxvavWVM8yw"
      },
      "execution_count": null,
      "outputs": []
    },
    {
      "cell_type": "code",
      "execution_count": null,
      "metadata": {
        "colab": {
          "base_uri": "https://localhost:8080/",
          "height": 300
        },
        "id": "ff2hXCVaCwUA",
        "outputId": "be91476e-19a6-42e8-8813-2dbfde6da60a"
      },
      "outputs": [
        {
          "output_type": "display_data",
          "data": {
            "text/plain": [
              "<Figure size 432x288 with 1 Axes>"
            ],
            "image/png": "[encoded data removed]"
          },
          "metadata": {
            "needs_background": "light"
          }
        },
        {
          "output_type": "stream",
          "name": "stdout",
          "text": [
            "R squared value on training set: 0.994\n",
            "R squared value on test set: 0.996\n"
          ]
        }
      ],
      "source": [
        "# ============= Start of your code =============\n",
        "\n",
        "df_array = df.values\n",
        "df_test_array = df_test.values\n",
        "\n",
        "'''original training data: temperature (column 0), pressure (column 1)'''\n",
        "T1 = df_array[0,0].reshape(-1,1) # fix T1 as the temperature of the first sample\n",
        "T2 = df_array[1:,0].reshape(-1,1) # set T2 as the temperature of the second to the last sample\n",
        "P1 = df_array[0,1].reshape(-1,1) # fix P1 as the pressure of the first sample\n",
        "P2 = df_array[1:,1].reshape(-1,1) # set P2 as the pressure of the second to the last sample\n",
        "\n",
        "'''original test data: temperature (column 0), pressure (column 1)'''\n",
        "T1_test = df_test_array[0,0].reshape(-1,1)\n",
        "T2_test = df_test_array[1:,0].reshape(-1,1)\n",
        "P1_test = df_test_array[0,1].reshape(-1,1)\n",
        "P2_test = df_test_array[1:,1].reshape(-1,1)\n",
        "\n",
        "'''transform to thermodynamic formula: set (1/T2 - 1/T1) as x, ln(p2/P1) as y '''\n",
        "# new training dataset\n",
        "x = (1/T2) - (1/T1)\n",
        "y = np.log(P2/P1)\n",
        "# new test dataset\n",
        "x_test = (1/T2_test) - (1/T1_test)\n",
        "y_test = np.log(P2_test/P1_test)\n",
        "\n",
        "'''model and score'''\n",
        "# model\n",
        "lr = LinearRegression()\n",
        "lr.fit(x, y)\n",
        "# score\n",
        "training_score = lr.score(x,y)\n",
        "test_score = lr.score(x_test, y_test)\n",
        "\n",
        "'''visualization'''\n",
        "# predict\n",
        "predicted = lr.predict(x)\n",
        "# plot\n",
        "plt.plot(x, predicted, c='k')\n",
        "plt.scatter(x, y, label='Training')\n",
        "plt.scatter(x_test, y_test, label='Test')\n",
        "plt.legend(loc=\"best\")\n",
        "plt.show()\n",
        "\n",
        "print(f\"R squared value on training set: {training_score:.3f}\")\n",
        "print(f\"R squared value on test set: {test_score:.3f}\")\n",
        "# ============= End of your code ============="
      ]
    },
    {
      "cell_type": "markdown",
      "source": [
        "<font color='red'> Your answer here </font>\n",
        "\n",
        "* Both neural networks and linear regression model based on Clausius-Clapeyron relation are performed well in this case. However, performance of neural network cannot be guaranteed beyond the range of dataset.\n"
      ],
      "metadata": {
        "id": "pqiLuGLpOlGy"
      }
    },
    {
      "cell_type": "markdown",
      "metadata": {
        "id": "3tfuSaWpxpFY"
      },
      "source": [
        "# 2 Density prediction based on temperature and pressure <font color='red'> (25 pts) </font>"
      ]
    },
    {
      "cell_type": "markdown",
      "metadata": {
        "id": "kL_sRy4-scNj"
      },
      "source": [
        "Let's start by loading in the new dataset."
      ]
    },
    {
      "cell_type": "code",
      "execution_count": null,
      "metadata": {
        "id": "ZjO063FiaKAM"
      },
      "outputs": [],
      "source": [
        "directory_2 = \"https://raw.githubusercontent.com/OptiMaL-PSE-Lab/ML-course/master/VLE%20prediction/Data.xlsx\"\n",
        "directory_1 = \"https://raw.githubusercontent.com/OptiMaL-PSE-Lab/ML-course/master/VLE%20prediction/Test-Dataset%20(no%20noise).xlsx\"\n",
        "df_test = pd.read_excel(directory_1, sheet_name='PVT')\n",
        "df = pd.read_excel(directory_2, sheet_name='PVT')"
      ]
    },
    {
      "cell_type": "markdown",
      "metadata": {
        "id": "bz_gENy_siW5"
      },
      "source": [
        "<font color='blue'>\n",
        "Repeat the previous data exploration. Compare the dataset used to the one in the linear regression. <font color='red'> (5 pts.) </font>\n",
        "Then fit a neural network to predict the density based on temperature and pressure.\n",
        "</font> <font color='red'> (5 pts.) </font>\n",
        "\n",
        "Optional: Explore different kinds of models and see if they give a better fit"
      ]
    },
    {
      "cell_type": "code",
      "source": [
        "# ============= Start of your code =============\n",
        "df[:10]\n",
        "df.describe()\n",
        "# ============= End of your code ============="
      ],
      "metadata": {
        "id": "w6RQRzOeRLEO",
        "colab": {
          "base_uri": "https://localhost:8080/",
          "height": 300
        },
        "outputId": "9425d60c-ab7e-4486-f9a5-5a6423934355"
      },
      "execution_count": null,
      "outputs": [
        {
          "output_type": "execute_result",
          "data": {
            "text/plain": [
              "       Temperature / K  Density / (mol m^-3)  Pressure / Pa\n",
              "count      1982.000000           1982.000000   1.982000e+03\n",
              "mean        505.227497          15108.831471   1.711570e+08\n",
              "std         138.070129           8644.898805   2.300264e+08\n",
              "min         202.130000            137.147000   4.021716e+05\n",
              "25%         386.712500           7658.063250   2.114711e+07\n",
              "50%         504.100000          15293.338500   7.183241e+07\n",
              "75%         624.915000          22749.927000   2.222867e+08\n",
              "max         744.870000          29398.853000   1.349381e+09"
            ],
            "text/html": [
              "\n",
              "  <div id=\"df-277d12c8-0f53-499b-b54b-ab55cba9c7e7\">\n",
              "    <div class=\"colab-df-container\">\n",
              "      <div>\n",
              "<style scoped>\n",
              "    .dataframe tbody tr th:only-of-type {\n",
              "        vertical-align: middle;\n",
              "    }\n",
              "\n",
              "    .dataframe tbody tr th {\n",
              "        vertical-align: top;\n",
              "    }\n",
              "\n",
              "    .dataframe thead th {\n",
              "        text-align: right;\n",
              "    }\n",
              "</style>\n",
              "<table border=\"1\" class=\"dataframe\">\n",
              "  <thead>\n",
              "    <tr style=\"text-align: right;\">\n",
              "      <th></th>\n",
              "      <th>Temperature / K</th>\n",
              "      <th>Density / (mol m^-3)</th>\n",
              "      <th>Pressure / Pa</th>\n",
              "    </tr>\n",
              "  </thead>\n",
              "  <tbody>\n",
              "    <tr>\n",
              "      <th>count</th>\n",
              "      <td>1982.000000</td>\n",
              "      <td>1982.000000</td>\n",
              "      <td>1.982000e+03</td>\n",
              "    </tr>\n",
              "    <tr>\n",
              "      <th>mean</th>\n",
              "      <td>505.227497</td>\n",
              "      <td>15108.831471</td>\n",
              "      <td>1.711570e+08</td>\n",
              "    </tr>\n",
              "    <tr>\n",
              "      <th>std</th>\n",
              "      <td>138.070129</td>\n",
              "      <td>8644.898805</td>\n",
              "      <td>2.300264e+08</td>\n",
              "    </tr>\n",
              "    <tr>\n",
              "      <th>min</th>\n",
              "      <td>202.130000</td>\n",
              "      <td>137.147000</td>\n",
              "      <td>4.021716e+05</td>\n",
              "    </tr>\n",
              "    <tr>\n",
              "      <th>25%</th>\n",
              "      <td>386.712500</td>\n",
              "      <td>7658.063250</td>\n",
              "      <td>2.114711e+07</td>\n",
              "    </tr>\n",
              "    <tr>\n",
              "      <th>50%</th>\n",
              "      <td>504.100000</td>\n",
              "      <td>15293.338500</td>\n",
              "      <td>7.183241e+07</td>\n",
              "    </tr>\n",
              "    <tr>\n",
              "      <th>75%</th>\n",
              "      <td>624.915000</td>\n",
              "      <td>22749.927000</td>\n",
              "      <td>2.222867e+08</td>\n",
              "    </tr>\n",
              "    <tr>\n",
              "      <th>max</th>\n",
              "      <td>744.870000</td>\n",
              "      <td>29398.853000</td>\n",
              "      <td>1.349381e+09</td>\n",
              "    </tr>\n",
              "  </tbody>\n",
              "</table>\n",
              "</div>\n",
              "      <button class=\"colab-df-convert\" onclick=\"convertToInteractive('df-277d12c8-0f53-499b-b54b-ab55cba9c7e7')\"\n",
              "              title=\"Convert this dataframe to an interactive table.\"\n",
              "              style=\"display:none;\">\n",
              "        \n",
              "  <svg xmlns=\"http://www.w3.org/2000/svg\" height=\"24px\"viewBox=\"0 0 24 24\"\n",
              "       width=\"24px\">\n",
              "    <path d=\"M0 0h24v24H0V0z\" fill=\"none\"/>\n",
              "    <path d=\"M18.56 5.44l.94 2.06.94-2.06 2.06-.94-2.06-.94-.94-2.06-.94 2.06-2.06.94zm-11 1L8.5 8.5l.94-2.06 2.06-.94-2.06-.94L8.5 2.5l-.94 2.06-2.06.94zm10 10l.94 2.06.94-2.06 2.06-.94-2.06-.94-.94-2.06-.94 2.06-2.06.94z\"/><path d=\"M17.41 7.96l-1.37-1.37c-.4-.4-.92-.59-1.43-.59-.52 0-1.04.2-1.43.59L10.3 9.45l-7.72 7.72c-.78.78-.78 2.05 0 2.83L4 21.41c.39.39.9.59 1.41.59.51 0 1.02-.2 1.41-.59l7.78-7.78 2.81-2.81c.8-.78.8-2.07 0-2.86zM5.41 20L4 18.59l7.72-7.72 1.47 1.35L5.41 20z\"/>\n",
              "  </svg>\n",
              "      </button>\n",
              "      \n",
              "  <style>\n",
              "    .colab-df-container {\n",
              "      display:flex;\n",
              "      flex-wrap:wrap;\n",
              "      gap: 12px;\n",
              "    }\n",
              "\n",
              "    .colab-df-convert {\n",
              "      background-color: #E8F0FE;\n",
              "      border: none;\n",
              "      border-radius: 50%;\n",
              "      cursor: pointer;\n",
              "      display: none;\n",
              "      fill: #1967D2;\n",
              "      height: 32px;\n",
              "      padding: 0 0 0 0;\n",
              "      width: 32px;\n",
              "    }\n",
              "\n",
              "    .colab-df-convert:hover {\n",
              "      background-color: #E2EBFA;\n",
              "      box-shadow: 0px 1px 2px rgba(60, 64, 67, 0.3), 0px 1px 3px 1px rgba(60, 64, 67, 0.15);\n",
              "      fill: #174EA6;\n",
              "    }\n",
              "\n",
              "    [theme=dark] .colab-df-convert {\n",
              "      background-color: #3B4455;\n",
              "      fill: #D2E3FC;\n",
              "    }\n",
              "\n",
              "    [theme=dark] .colab-df-convert:hover {\n",
              "      background-color: #434B5C;\n",
              "      box-shadow: 0px 1px 3px 1px rgba(0, 0, 0, 0.15);\n",
              "      filter: drop-shadow(0px 1px 2px rgba(0, 0, 0, 0.3));\n",
              "      fill: #FFFFFF;\n",
              "    }\n",
              "  </style>\n",
              "\n",
              "      <script>\n",
              "        const buttonEl =\n",
              "          document.querySelector('#df-277d12c8-0f53-499b-b54b-ab55cba9c7e7 button.colab-df-convert');\n",
              "        buttonEl.style.display =\n",
              "          google.colab.kernel.accessAllowed ? 'block' : 'none';\n",
              "\n",
              "        async function convertToInteractive(key) {\n",
              "          const element = document.querySelector('#df-277d12c8-0f53-499b-b54b-ab55cba9c7e7');\n",
              "          const dataTable =\n",
              "            await google.colab.kernel.invokeFunction('convertToInteractive',\n",
              "                                                     [key], {});\n",
              "          if (!dataTable) return;\n",
              "\n",
              "          const docLinkHtml = 'Like what you see? Visit the ' +\n",
              "            '<a target=\"_blank\" href=https://colab.research.google.com/notebooks/data_table.ipynb>data table notebook</a>'\n",
              "            + ' to learn more about interactive tables.';\n",
              "          element.innerHTML = '';\n",
              "          dataTable['output_type'] = 'display_data';\n",
              "          await google.colab.output.renderOutput(dataTable, element);\n",
              "          const docLink = document.createElement('div');\n",
              "          docLink.innerHTML = docLinkHtml;\n",
              "          element.appendChild(docLink);\n",
              "        }\n",
              "      </script>\n",
              "    </div>\n",
              "  </div>\n",
              "  "
            ]
          },
          "metadata": {},
          "execution_count": 16
        }
      ]
    },
    {
      "cell_type": "markdown",
      "source": [
        "<font color='red'> Your answer here </font>\n",
        "\n",
        "* Dataset here is much larger than the previous one.\n",
        "* Ranges of physical properties of the dataset indicated by maximum and minimum of values is much larger than the previous one.\n",
        "* Standard deviation of the data set is larger than the previous dataset.\n"
      ],
      "metadata": {
        "id": "SCNMbO8bREFm"
      }
    },
    {
      "cell_type": "code",
      "source": [
        "# ============= Start of your code =============\n",
        "# obtain dataset\n",
        "directory_2 = \"https://raw.githubusercontent.com/OptiMaL-PSE-Lab/ML-course/master/VLE%20prediction/Data.xlsx\"\n",
        "directory_1 = \"https://raw.githubusercontent.com/OptiMaL-PSE-Lab/ML-course/master/VLE%20prediction/Test-Dataset%20(no%20noise).xlsx\"\n",
        "# training set\n",
        "df = pd.read_excel(directory_2, sheet_name='PVT')\n",
        "# test set\n",
        "df_test = pd.read_excel(directory_1, sheet_name='PVT')\n",
        "\n",
        "df_array = df.values\n",
        "df_test_array = df_test.values\n",
        "\n",
        "# data X: Temperature (column 0) and Pressure (column 2)\n",
        "X = df_array[:, [0, 2]]                            # training set\n",
        "X = np.array(X).reshape(len(X), 2)                 # training set reshape\n",
        "X_test = df_test_array[:, [0, 2]]                  # test set\n",
        "X_test = np.array(X_test).reshape(len(X_test), 2)  # test set reshape\n",
        "# data y: Density (column 1)\n",
        "rou = df_array[:, 1]                                     # training set\n",
        "rou = np.array(rou).reshape(len(rou), 1)                 # training set reshape\n",
        "rou_test = df_test_array[:, 1]                           # test set\n",
        "rou_test = np.array(rou_test).reshape(len(rou_test), 1)  # test set reshape\n",
        "\n",
        "# combine: training set & test set\n",
        "X_all = np.vstack((X, X_test))        # X: Temperature & Pressure\n",
        "rou_all = np.vstack((rou, rou_test))  # y: Density\n",
        "\n",
        "\n",
        "# cross validation: 5-fold\n",
        "cv_N = 5\n",
        "\n",
        "# neural network\n",
        "pipe_rou = make_pipeline(\n",
        "    StandardScaler(),\n",
        "    MLPRegressor(random_state=0,\n",
        "                 hidden_layer_sizes=(50,),\n",
        "                 early_stopping=True,\n",
        "                 max_iter=500,\n",
        "                 learning_rate='constant',\n",
        "                 learning_rate_init=10,\n",
        "                 batch_size=30,\n",
        "                 alpha=0.05,\n",
        "                 )\n",
        ")\n",
        "# neural network: training\n",
        "pipe_rou.fit(X, rou)\n",
        "\n",
        "# neural network: cross validation\n",
        "scores_rou = cross_validate(pipe_rou, X_all, rou_all, cv=cv_N, return_train_score=True)\n",
        "train_score_mean1_rou = np.mean(scores_rou['train_score'])  # average train_score\n",
        "test_score_mean1_rou = np.mean(scores_rou['test_score'])    # average test_score\n",
        "print(f'training score:{train_score_mean1_rou:.3f}')\n",
        "print(f'test score:{test_score_mean1_rou:.3f}')\n",
        "\n",
        "# predict: training set & test set\n",
        "pipe_rou_predict_train = pipe_rou.predict(X)      # training set\n",
        "pipe_rou_predict_test = pipe_rou.predict(X_test)  # test set\n",
        "\n",
        "# plot: actual values = predicted values (for contrast)\n",
        "plt.plot(rou.squeeze(), rou.squeeze(), c='k')\n",
        "# plot: actual values vs. values predicted by training set input\n",
        "plt.scatter(rou.squeeze(), pipe_rou_predict_train.squeeze(), label='Training-rou', c='#5ba4f0')\n",
        "# plot: actual values vs. values predicted by test input\n",
        "plt.scatter(rou_test.squeeze(), pipe_rou_predict_test.squeeze(), label='Test-rou', c='#ffcf4f')\n",
        "\n",
        "plt.xlabel('Actual Value', fontsize=10)\n",
        "plt.ylabel('Predicted Value', fontsize=10)\n",
        "plt.legend()\n",
        "plt.show()\n",
        "# ============= End of your code ============="
      ],
      "metadata": {
        "id": "l1RonDkERQ3q",
        "colab": {
          "base_uri": "https://localhost:8080/",
          "height": 542
        },
        "outputId": "6a74c586-16c3-4d56-8dbf-f4832bab8f8d"
      },
      "execution_count": null,
      "outputs": [
        {
          "output_type": "stream",
          "name": "stderr",
          "text": [
            "/usr/local/lib/python3.8/dist-packages/sklearn/neural_network/_multilayer_perceptron.py:1599: DataConversionWarning: A column-vector y was passed when a 1d array was expected. Please change the shape of y to (n_samples, ), for example using ravel().\n",
            "  y = column_or_1d(y, warn=True)\n",
            "/usr/local/lib/python3.8/dist-packages/sklearn/neural_network/_multilayer_perceptron.py:1599: DataConversionWarning: A column-vector y was passed when a 1d array was expected. Please change the shape of y to (n_samples, ), for example using ravel().\n",
            "  y = column_or_1d(y, warn=True)\n",
            "/usr/local/lib/python3.8/dist-packages/sklearn/neural_network/_multilayer_perceptron.py:1599: DataConversionWarning: A column-vector y was passed when a 1d array was expected. Please change the shape of y to (n_samples, ), for example using ravel().\n",
            "  y = column_or_1d(y, warn=True)\n",
            "/usr/local/lib/python3.8/dist-packages/sklearn/neural_network/_multilayer_perceptron.py:1599: DataConversionWarning: A column-vector y was passed when a 1d array was expected. Please change the shape of y to (n_samples, ), for example using ravel().\n",
            "  y = column_or_1d(y, warn=True)\n",
            "/usr/local/lib/python3.8/dist-packages/sklearn/neural_network/_multilayer_perceptron.py:1599: DataConversionWarning: A column-vector y was passed when a 1d array was expected. Please change the shape of y to (n_samples, ), for example using ravel().\n",
            "  y = column_or_1d(y, warn=True)\n",
            "/usr/local/lib/python3.8/dist-packages/sklearn/neural_network/_multilayer_perceptron.py:1599: DataConversionWarning: A column-vector y was passed when a 1d array was expected. Please change the shape of y to (n_samples, ), for example using ravel().\n",
            "  y = column_or_1d(y, warn=True)\n"
          ]
        },
        {
          "output_type": "stream",
          "name": "stdout",
          "text": [
            "training score:0.945\n",
            "test score:0.944\n"
          ]
        },
        {
          "output_type": "display_data",
          "data": {
            "text/plain": [
              "<Figure size 432x288 with 1 Axes>"
            ],
            "image/png": "[encoded data removed]"
          },
          "metadata": {
            "needs_background": "light"
          }
        }
      ]
    },
    {
      "cell_type": "markdown",
      "metadata": {
        "id": "Gz0iAs0E3esc"
      },
      "source": [
        "<font color='blue'> Comment on the fit. Does this make thermodynamic sense?\n",
        "</font> <font color='red'> (3 pts) </font>\n",
        "\n",
        "\n"
      ]
    },
    {
      "cell_type": "markdown",
      "source": [
        "<font color='red'> Your answer here </font>\n",
        "\n",
        "* The temperature of the dataset ranges from 200K to 700 K. Within the range from 300K to 700K, it is the gas phase. Within the range from 200K to 300K, there is a gas-liquid coexistence, where the molar density is higher than that of the gas phase. Therefore, if we predict these two different states of the system using a single model, it will have a large error.\n",
        "* We can only find how density varies with the variation of temperature and pressure but cannot have a precise prediction on the density of both liquid and vapor simultaneously. Therefore, the thermodynamic sense of the model is limited.\n"
      ],
      "metadata": {
        "id": "CpdZAzp9R_PZ"
      }
    },
    {
      "cell_type": "markdown",
      "source": [
        "\n",
        "\n",
        "<font color='blue'> Now, try and fit pressure as a function of temperature and density. Comment on the fit.\n",
        "</font> <font color='red'> (5 pts) </font>"
      ],
      "metadata": {
        "id": "CJA5-Q4eRfHj"
      }
    },
    {
      "cell_type": "code",
      "execution_count": null,
      "metadata": {
        "colab": {
          "base_uri": "https://localhost:8080/",
          "height": 553
        },
        "id": "70aYrRVE3GYa",
        "outputId": "56169d70-5b6c-44d6-f062-469240cc5687"
      },
      "outputs": [
        {
          "output_type": "stream",
          "name": "stderr",
          "text": [
            "/usr/local/lib/python3.8/dist-packages/sklearn/neural_network/_multilayer_perceptron.py:1599: DataConversionWarning: A column-vector y was passed when a 1d array was expected. Please change the shape of y to (n_samples, ), for example using ravel().\n",
            "  y = column_or_1d(y, warn=True)\n",
            "/usr/local/lib/python3.8/dist-packages/sklearn/neural_network/_multilayer_perceptron.py:1599: DataConversionWarning: A column-vector y was passed when a 1d array was expected. Please change the shape of y to (n_samples, ), for example using ravel().\n",
            "  y = column_or_1d(y, warn=True)\n",
            "/usr/local/lib/python3.8/dist-packages/sklearn/neural_network/_multilayer_perceptron.py:1599: DataConversionWarning: A column-vector y was passed when a 1d array was expected. Please change the shape of y to (n_samples, ), for example using ravel().\n",
            "  y = column_or_1d(y, warn=True)\n",
            "/usr/local/lib/python3.8/dist-packages/sklearn/neural_network/_multilayer_perceptron.py:1599: DataConversionWarning: A column-vector y was passed when a 1d array was expected. Please change the shape of y to (n_samples, ), for example using ravel().\n",
            "  y = column_or_1d(y, warn=True)\n",
            "/usr/local/lib/python3.8/dist-packages/sklearn/neural_network/_multilayer_perceptron.py:1599: DataConversionWarning: A column-vector y was passed when a 1d array was expected. Please change the shape of y to (n_samples, ), for example using ravel().\n",
            "  y = column_or_1d(y, warn=True)\n",
            "/usr/local/lib/python3.8/dist-packages/sklearn/neural_network/_multilayer_perceptron.py:1599: DataConversionWarning: A column-vector y was passed when a 1d array was expected. Please change the shape of y to (n_samples, ), for example using ravel().\n",
            "  y = column_or_1d(y, warn=True)\n"
          ]
        },
        {
          "output_type": "stream",
          "name": "stdout",
          "text": [
            "training score:0.990\n",
            "test score:0.990\n"
          ]
        },
        {
          "output_type": "display_data",
          "data": {
            "text/plain": [
              "<Figure size 432x288 with 1 Axes>"
            ],
            "image/png": "[encoded data removed]"
          },
          "metadata": {
            "needs_background": "light"
          }
        }
      ],
      "source": [
        "# ============= Start of your code =============\n",
        "# obtain dataset\n",
        "directory_2 = \"https://raw.githubusercontent.com/OptiMaL-PSE-Lab/ML-course/master/VLE%20prediction/Data.xlsx\"\n",
        "directory_1 = \"https://raw.githubusercontent.com/OptiMaL-PSE-Lab/ML-course/master/VLE%20prediction/Test-Dataset%20(no%20noise).xlsx\"\n",
        "# training set\n",
        "df = pd.read_excel(directory_2, sheet_name='PVT')\n",
        "# test set\n",
        "df_test = pd.read_excel(directory_1, sheet_name='PVT')\n",
        "\n",
        "# data X: Temperature (column 0) and Density (column 1)\n",
        "X = df_array[:, 0:2]                               # training set\n",
        "X = np.array(X).reshape(len(X), 2)                 # training set reshape\n",
        "X_test = df_test_array[:, 0:2]                     # test set\n",
        "X_test = np.array(X_test).reshape(len(X_test), 2)  # test set reshape\n",
        "# data y: Pressure (column 2)\n",
        "p_0 = df_array[:, 2]                                   # training set\n",
        "p = np.array(p_0).reshape(len(p_0), 1)                 # training set reshape\n",
        "p_test_0 = df_test_array[:, 2]                         # test set\n",
        "p_test = np.array(p_test_0).reshape(len(p_test_0), 1)  # test set reshape\n",
        "\n",
        "# combine: training set & test set\n",
        "X_all = np.vstack((X, X_test))  # X: Temperature & Density\n",
        "p_all = np.vstack((p, p_test))  # y: Pressure\n",
        "\n",
        "\n",
        "# cross validation: 5-fold\n",
        "cv_N = 5\n",
        "\n",
        "# neural network\n",
        "pipe_P = make_pipeline(\n",
        "    StandardScaler(),\n",
        "    MLPRegressor(random_state=0,\n",
        "                 hidden_layer_sizes=(50,),\n",
        "                 early_stopping=True,\n",
        "                 max_iter=500,\n",
        "                 learning_rate='constant',\n",
        "                 learning_rate_init=10,\n",
        "                 batch_size=30,\n",
        "                 alpha=0.01,\n",
        "                 )\n",
        ")\n",
        "# neural network: training\n",
        "pipe_P.fit(X, p)\n",
        "\n",
        "# neural network: cross validation\n",
        "scores_P = cross_validate(pipe_P, X_all, p_all, cv=cv_N, return_train_score=True)\n",
        "train_score_mean1_p = np.mean(scores_P['train_score'])  # average train_score\n",
        "test_score_mean1_p = np.mean(scores_P['test_score'])    # average test_score\n",
        "print(f'training score:{train_score_mean1_p:.3f}')\n",
        "print(f'test score:{test_score_mean1_p:.3f}')\n",
        "\n",
        "# predict: training set & test set\n",
        "pipe_P_predict_train = pipe_P.predict(X)      # training set\n",
        "pipe_P_predict_test = pipe_P.predict(X_test)  # test set\n",
        "# plot: actual values = predicted values (for contrast)\n",
        "plt.plot(p.squeeze(), p.squeeze(), c='k')\n",
        "# plot: actual values vs. values predicted by training set input\n",
        "plt.scatter(p.squeeze(), pipe_P_predict_train, label='Training-NN', c='#5ba4f0')\n",
        "# plot: actual values vs. values predicted by test input\n",
        "plt.scatter(p_test.squeeze(), pipe_P_predict_test.squeeze(), label='Test-NN', c='#ffcf4f')\n",
        "\n",
        "plt.xlabel('Actual Value', fontsize=10)\n",
        "plt.ylabel('Predicted Value', fontsize=10)\n",
        "plt.legend()\n",
        "plt.show()\n",
        "# ============= End of your code ============="
      ]
    },
    {
      "cell_type": "markdown",
      "source": [
        "<font color='red'> Your answer here </font>\n",
        "\n",
        "* Performance is better than the previous one in this case."
      ],
      "metadata": {
        "id": "05QTelblSOir"
      }
    },
    {
      "cell_type": "markdown",
      "metadata": {
        "id": "PiU7gPFA3mfY"
      },
      "source": [
        "\n",
        "\n",
        "<font color='blue'> Your friend suggests fitting the compressibility ($Z = \\frac{P}{\\rho R T}$) instead of the pressure. Does this give a better fit? Why?\n",
        "</font> <font color='red'> (7 pts) </font>\n"
      ]
    },
    {
      "cell_type": "code",
      "execution_count": null,
      "metadata": {
        "colab": {
          "base_uri": "https://localhost:8080/",
          "height": 716
        },
        "id": "HBqU7juZ3LE9",
        "outputId": "90cf7ca7-2c0f-4c06-d894-7f40c2843e22"
      },
      "outputs": [
        {
          "output_type": "stream",
          "name": "stderr",
          "text": [
            "/usr/local/lib/python3.8/dist-packages/sklearn/neural_network/_multilayer_perceptron.py:1599: DataConversionWarning: A column-vector y was passed when a 1d array was expected. Please change the shape of y to (n_samples, ), for example using ravel().\n",
            "  y = column_or_1d(y, warn=True)\n",
            "/usr/local/lib/python3.8/dist-packages/sklearn/neural_network/_multilayer_perceptron.py:1599: DataConversionWarning: A column-vector y was passed when a 1d array was expected. Please change the shape of y to (n_samples, ), for example using ravel().\n",
            "  y = column_or_1d(y, warn=True)\n",
            "/usr/local/lib/python3.8/dist-packages/sklearn/neural_network/_multilayer_perceptron.py:1599: DataConversionWarning: A column-vector y was passed when a 1d array was expected. Please change the shape of y to (n_samples, ), for example using ravel().\n",
            "  y = column_or_1d(y, warn=True)\n",
            "/usr/local/lib/python3.8/dist-packages/sklearn/neural_network/_multilayer_perceptron.py:1599: DataConversionWarning: A column-vector y was passed when a 1d array was expected. Please change the shape of y to (n_samples, ), for example using ravel().\n",
            "  y = column_or_1d(y, warn=True)\n",
            "/usr/local/lib/python3.8/dist-packages/sklearn/neural_network/_multilayer_perceptron.py:1599: DataConversionWarning: A column-vector y was passed when a 1d array was expected. Please change the shape of y to (n_samples, ), for example using ravel().\n",
            "  y = column_or_1d(y, warn=True)\n",
            "/usr/local/lib/python3.8/dist-packages/sklearn/neural_network/_multilayer_perceptron.py:1599: DataConversionWarning: A column-vector y was passed when a 1d array was expected. Please change the shape of y to (n_samples, ), for example using ravel().\n",
            "  y = column_or_1d(y, warn=True)\n",
            "/usr/local/lib/python3.8/dist-packages/sklearn/neural_network/_multilayer_perceptron.py:1599: DataConversionWarning: A column-vector y was passed when a 1d array was expected. Please change the shape of y to (n_samples, ), for example using ravel().\n",
            "  y = column_or_1d(y, warn=True)\n",
            "/usr/local/lib/python3.8/dist-packages/sklearn/neural_network/_multilayer_perceptron.py:1599: DataConversionWarning: A column-vector y was passed when a 1d array was expected. Please change the shape of y to (n_samples, ), for example using ravel().\n",
            "  y = column_or_1d(y, warn=True)\n",
            "/usr/local/lib/python3.8/dist-packages/sklearn/neural_network/_multilayer_perceptron.py:1599: DataConversionWarning: A column-vector y was passed when a 1d array was expected. Please change the shape of y to (n_samples, ), for example using ravel().\n",
            "  y = column_or_1d(y, warn=True)\n",
            "/usr/local/lib/python3.8/dist-packages/sklearn/neural_network/_multilayer_perceptron.py:1599: DataConversionWarning: A column-vector y was passed when a 1d array was expected. Please change the shape of y to (n_samples, ), for example using ravel().\n",
            "  y = column_or_1d(y, warn=True)\n",
            "/usr/local/lib/python3.8/dist-packages/sklearn/neural_network/_multilayer_perceptron.py:1599: DataConversionWarning: A column-vector y was passed when a 1d array was expected. Please change the shape of y to (n_samples, ), for example using ravel().\n",
            "  y = column_or_1d(y, warn=True)\n"
          ]
        },
        {
          "output_type": "stream",
          "name": "stdout",
          "text": [
            "training score:0.993\n",
            "test score:0.993\n"
          ]
        },
        {
          "output_type": "display_data",
          "data": {
            "text/plain": [
              "<Figure size 432x288 with 1 Axes>"
            ],
            "image/png": "[encoded data removed]"
          },
          "metadata": {
            "needs_background": "light"
          }
        }
      ],
      "source": [
        "\n",
        "# ============= Start of your code =============\n",
        "# obtain dataset\n",
        "directory_2 = \"https://raw.githubusercontent.com/OptiMaL-PSE-Lab/ML-course/master/VLE%20prediction/Data.xlsx\"\n",
        "directory_1 = \"https://raw.githubusercontent.com/OptiMaL-PSE-Lab/ML-course/master/VLE%20prediction/Test-Dataset%20(no%20noise).xlsx\"\n",
        "# training set\n",
        "df = pd.read_excel(directory_2, sheet_name='PVT')\n",
        "# test set\n",
        "df_test = pd.read_excel(directory_1, sheet_name='PVT')\n",
        "\n",
        "df_array = df.values\n",
        "df_test_array = df_test.values\n",
        "\n",
        "# data: obtain Temperature, Density, Pressure of for calculation\n",
        "# training set\n",
        "t = df_array[:, 0]    # Temperature\n",
        "den = df_array[:, 1]  # Density\n",
        "p = df_array[:, 2]    # Pressure\n",
        "# training set reshape\n",
        "t = np.array(t)\n",
        "den = np.array(den)\n",
        "p = np.array(p)\n",
        "# test set\n",
        "t_test = df_test_array[:, 0]    # Temperature\n",
        "den_test = df_test_array[:, 1]  # Density\n",
        "p_test = df_test_array[:, 2]    # Pressure\n",
        "# test set reshape\n",
        "t_test = np.array(t_test)\n",
        "den_test = np.array(den_test)\n",
        "p_test = np.array(p_test)\n",
        "\n",
        "# data: calculate Z = P/(R*T*rou)\n",
        "z = np.true_divide(p, 8.31 * np.multiply(den, t))                      # training set\n",
        "z = np.array(z).reshape(len(z), 1)                                     # training set reshape\n",
        "z_test = np.true_divide(p_test, 8.31 * np.multiply(den_test, t_test))  # test set\n",
        "z_test = np.array(z_test).reshape(len(z_test), 1)                      # test set reshape\n",
        "\n",
        "# data X: Temperature (column 0) and Density (column 1)\n",
        "# obtain values\n",
        "X = df.iloc[:, 0:2].values                         # training set\n",
        "X = np.array(X).reshape(len(X), 2)                 # training set reshape\n",
        "X_test = df_test.iloc[:, 0:2].values               # test set\n",
        "X_test = np.array(X_test).reshape(len(X_test), 2)  # test set reshape\n",
        "\n",
        "# combine: training set & test set\n",
        "X_all = np.vstack((X, X_test))  # X: Temperature & Density\n",
        "z_all = np.vstack((z, z_test))  # Z\n",
        "\n",
        "\n",
        "# cross validation: 10-fold\n",
        "cv_N = 10\n",
        "\n",
        "# neural network\n",
        "pipe_z = make_pipeline(\n",
        "    StandardScaler(),\n",
        "    MLPRegressor(random_state=0,\n",
        "                 hidden_layer_sizes=(5, 5),\n",
        "                 early_stopping=True,\n",
        "                 learning_rate='constant',\n",
        "                 learning_rate_init=0.005,\n",
        "                 batch_size=32,\n",
        "                 alpha=0.005,\n",
        "                 )\n",
        ")\n",
        "# neural network: training\n",
        "pipe_z.fit(X, z)\n",
        "\n",
        "# neural network: cross validation\n",
        "scores_z = cross_validate(pipe_z, X_all, z_all, cv=cv_N, return_train_score=True)\n",
        "train_score_mean1 = np.mean(scores_z['train_score'])  # average train_score\n",
        "test_score_mean1 = np.mean(scores_z['test_score'])    # average test_score\n",
        "print(f'training score:{train_score_mean1:.3f}')\n",
        "print(f'test score:{test_score_mean1:.3f}')\n",
        "\n",
        "# predict: training set & test set\n",
        "pipe_z_predict_train = pipe_z.predict(X)      # training set\n",
        "pipe_z_predict_test = pipe_z.predict(X_test)  # test set\n",
        "\n",
        "# plot: actual values = predicted values (for contrast)\n",
        "plt.plot(z.squeeze(), z.squeeze(), c='k')\n",
        "# plot: actual values vs. values predicted by training set input\n",
        "plt.scatter(z.squeeze(), pipe_z_predict_train, label='Training-NN', c='#5ba4f0')\n",
        "# plot: actual values vs. values predicted by test input\n",
        "plt.scatter(z_test.squeeze(), pipe_z_predict_test.squeeze(), label='Test-NN', c='#ffcf4f')\n",
        "\n",
        "plt.xlabel('Actual Value', fontsize=10)\n",
        "plt.ylabel('Predicted Value', fontsize=10)\n",
        "plt.legend()\n",
        "plt.show()\n",
        "\n",
        "# ============= End of your code ============="
      ]
    },
    {
      "cell_type": "markdown",
      "source": [
        "<font color='red'> Your answer here </font>\n",
        "\n",
        "* Fitting the compressibility gives a better performance.\n",
        "* Compared to the previous model where the function of temperature, density and pressure is unknown, the function of temperature, density and compressibility is clear. It is easier to study this clear relationship than aimlessly looking for an uncertain relationship."
      ],
      "metadata": {
        "id": "Xe57laykSwb8"
      }
    },
    {
      "cell_type": "markdown",
      "metadata": {
        "id": "-BXL2OIJ5cxW"
      },
      "source": [
        "# Vapour and liquid density prediction based on temperature and pressure <font color='red'> (15 pts) </font>"
      ]
    },
    {
      "cell_type": "code",
      "execution_count": null,
      "metadata": {
        "colab": {
          "base_uri": "https://localhost:8080/"
        },
        "id": "9ER_DtFE1-ou",
        "outputId": "7905d68d-037d-4aa5-f5ca-7df7a87cd32f"
      },
      "outputs": [
        {
          "output_type": "stream",
          "name": "stdout",
          "text": [
            "       Temperature / K  Pressure / Pa  Liquid Density / (mol m^-3)  \\\n",
            "count        17.000000   1.700000e+01                    17.000000   \n",
            "mean        242.404706   1.965774e+06                 23731.927294   \n",
            "std          29.318148   1.884307e+06                  3586.732910   \n",
            "min         200.830000   2.344739e+05                 15898.131000   \n",
            "25%         217.110000   5.147177e+05                 22331.663000   \n",
            "50%         241.240000   1.393145e+06                 24445.102000   \n",
            "75%         261.620000   2.467374e+06                 26189.589000   \n",
            "max         294.570000   6.166110e+06                 28466.551000   \n",
            "\n",
            "       Vapour Density / (mol m^-3)  \n",
            "count                    17.000000  \n",
            "mean                   1305.053706  \n",
            "std                    1455.493992  \n",
            "min                     143.517000  \n",
            "25%                     312.383000  \n",
            "50%                     809.685000  \n",
            "75%                    1416.887000  \n",
            "max                    5229.166000  \n"
          ]
        }
      ],
      "source": [
        "directory_2 = \"https://raw.githubusercontent.com/OptiMaL-PSE-Lab/ML-course/master/VLE%20prediction/Data.xlsx\"\n",
        "directory_1 = \"https://raw.githubusercontent.com/OptiMaL-PSE-Lab/ML-course/master/VLE%20prediction/Test-Dataset%20(no%20noise).xlsx\"\n",
        "df_test = pd.read_excel(directory_1, sheet_name='Phase Envelope')\n",
        "df = pd.read_excel(directory_2, sheet_name='Phase Envelope')\n",
        "print(df.describe())\n",
        "df_array = df.values\n",
        "df_test_array = df_test.values"
      ]
    },
    {
      "cell_type": "markdown",
      "metadata": {
        "id": "k9psTVTpt8V3"
      },
      "source": [
        "Since your current dataset is much smaller than the one used for the previous task, your friend suggests transfer learning: This means that you would use the model trained on the thousands of P,V to $\\rho$ data from the previous step, create two copies thereof and continue training them to the current data set of 17 samples to predict the liquid and vapour densities. Is this a good idea?"
      ]
    },
    {
      "cell_type": "markdown",
      "metadata": {
        "id": "5udb1AY2utYg"
      },
      "source": [
        "<font color='blue'> Extract the relevant training and test data from the dataset, df and df_test.\n",
        " First, create a deepcopy of the previous model and check if the previous model gives a decent fit to predict liquid and vapour equilibrium densities.\n",
        "Comment on the fit and discuss potential reasons. </font> <font color='red'> (8 pts) </font>"
      ]
    },
    {
      "cell_type": "code",
      "source": [
        "# ============= Start of your code =============\n",
        "\n",
        "# cross validation: 5-fold\n",
        "cv_N = 5\n",
        "# deepcopy: obtain old model for density prediction (pipe_rou)\n",
        "old_model = deepcopy(pipe_rou)\n",
        "\n",
        "# data X: Temperature (column 0) and Pressure (column 1)\n",
        "X = df.iloc[:, 0:2].values                         # training set\n",
        "X = np.array(X).reshape(len(X), 2)                 # training set reshape\n",
        "X_test = df_test.iloc[:, 0:2].values               # test set\n",
        "X_test = np.array(X_test).reshape(len(X_test), 2)  # test set reshape\n",
        "\n",
        "# data y1: Liquid Density (column 2)\n",
        "rou_l = df.iloc[:, 2].values                                   # training set\n",
        "rou_l = np.array(rou_l).reshape(len(rou_l), 1)                 # training set reshape\n",
        "rou_l_test = df_test.iloc[:, 2].values                         # test set\n",
        "rou_l_test = np.array(rou_l_test).reshape(len(rou_l_test), 1)  # test set reshape\n",
        "\n",
        "# data y2: Vapour Density (column 3)\n",
        "rou_v = df.iloc[:, 3].values                                   # training set\n",
        "rou_v = np.array(rou_v).reshape(len(rou_v), 1)                 # training set reshape\n",
        "rou_v_test = df_test.iloc[:, 3].values                         # test set\n",
        "rou_v_test = np.array(rou_v_test).reshape(len(rou_v_test), 1)  # test set reshape\n",
        "\n",
        "# combine: training set & test set\n",
        "X_all = np.vstack((X, X_test))              # X: Temperature & Pressure\n",
        "rou_l_all = np.vstack((rou_l, rou_l_test))  # y1: Liquid Density\n",
        "rou_v_all = np.vstack((rou_v, rou_v_test))  # y2: Vapour Density\n",
        "\n",
        "# predict: training set & test set\n",
        "pipe_rou_predict = old_model.predict(X_all)\n",
        "\n",
        "# evaluate 1: real liquid density (all) vs. predicted values\n",
        "liquid_density_r2 = r2_score(rou_l_all, pipe_rou_predict)\n",
        "# evaluate 2: real vapour density (all) vs. predicted values\n",
        "vapour_density_r2 = r2_score(rou_v_all, pipe_rou_predict)\n",
        "print(f'R2 score for liquid density:{liquid_density_r2:.3f}')\n",
        "print(f'R2 score for vapour density:{vapour_density_r2:.3f}')\n",
        "\n",
        "# plot: actual values = predicted values (for contrast)\n",
        "plt.plot(rou_l_all.squeeze(), rou_l_all.squeeze().squeeze(), c='k')  # liquid density\n",
        "plt.plot(rou_v_all.squeeze(), rou_v_all.squeeze().squeeze(), c='k')  # vapour density\n",
        "# plot: actual values vs. predicted values\n",
        "plt.scatter(rou_l_all.squeeze(), pipe_rou_predict.squeeze(), label='liquid density', c='#5ba4f0')\n",
        "plt.scatter(rou_v_all.squeeze(), pipe_rou_predict.squeeze(), label='vapour density', c='#ffcf4f')\n",
        "\n",
        "plt.xlabel('Actual Value', fontsize=10)\n",
        "plt.ylabel('Predicted Value', fontsize=10)\n",
        "plt.legend()\n",
        "plt.show()\n",
        "# ============= End of your code ============="
      ],
      "metadata": {
        "id": "K298aXayTzGz",
        "colab": {
          "base_uri": "https://localhost:8080/",
          "height": 314
        },
        "outputId": "6d969040-1b5c-4f30-b4a6-1d1eb71f6b88"
      },
      "execution_count": null,
      "outputs": [
        {
          "output_type": "stream",
          "name": "stdout",
          "text": [
            "R2 score for liquid density:-5.987\n",
            "R2 score for vapour density:-95.735\n"
          ]
        },
        {
          "output_type": "display_data",
          "data": {
            "text/plain": [
              "<Figure size 432x288 with 1 Axes>"
            ],
            "image/png": "[encoded data removed]"
          },
          "metadata": {
            "needs_background": "light"
          }
        }
      ]
    },
    {
      "cell_type": "markdown",
      "source": [
        "</font> <font color='red'> Your answer here </font>\n",
        "\n",
        "* The previous model fails to perform a good fit to predict liquid and vapor equilibrium density.\n",
        "* Under critical temperature (304.21K), the system contains two phases when it reaches equilibrium state. The previous dataset might not take it into consideration.\n",
        "* Density in the figure might be calculated by total mass divided by total volume, values of liquid and vapor density were not calculated separately, which leads to failure to predict liquid and vapor density separately."
      ],
      "metadata": {
        "id": "_CgkiaDnT4w9"
      }
    },
    {
      "cell_type": "markdown",
      "metadata": {
        "id": "PHKoRqfev4Lo"
      },
      "source": [
        "<font color='blue'>  Now, fit separate models to predict the equilibrium liquid and vapour densities. Comment on the fit </font> <font color='red'> (5 pts) </font>"
      ]
    },
    {
      "cell_type": "code",
      "execution_count": null,
      "metadata": {
        "colab": {
          "base_uri": "https://localhost:8080/",
          "height": 594
        },
        "id": "HzM9Lx3961o0",
        "outputId": "9142f569-4bb8-4f18-feda-9dbd87916bf5"
      },
      "outputs": [
        {
          "output_type": "stream",
          "name": "stderr",
          "text": [
            "/usr/local/lib/python3.8/dist-packages/sklearn/neural_network/_multilayer_perceptron.py:1599: DataConversionWarning: A column-vector y was passed when a 1d array was expected. Please change the shape of y to (n_samples, ), for example using ravel().\n",
            "  y = column_or_1d(y, warn=True)\n",
            "/usr/local/lib/python3.8/dist-packages/sklearn/neural_network/_multilayer_perceptron.py:1599: DataConversionWarning: A column-vector y was passed when a 1d array was expected. Please change the shape of y to (n_samples, ), for example using ravel().\n",
            "  y = column_or_1d(y, warn=True)\n",
            "/usr/local/lib/python3.8/dist-packages/sklearn/neural_network/_multilayer_perceptron.py:1599: DataConversionWarning: A column-vector y was passed when a 1d array was expected. Please change the shape of y to (n_samples, ), for example using ravel().\n",
            "  y = column_or_1d(y, warn=True)\n",
            "/usr/local/lib/python3.8/dist-packages/sklearn/neural_network/_multilayer_perceptron.py:1599: DataConversionWarning: A column-vector y was passed when a 1d array was expected. Please change the shape of y to (n_samples, ), for example using ravel().\n",
            "  y = column_or_1d(y, warn=True)\n",
            "/usr/local/lib/python3.8/dist-packages/sklearn/neural_network/_multilayer_perceptron.py:1599: DataConversionWarning: A column-vector y was passed when a 1d array was expected. Please change the shape of y to (n_samples, ), for example using ravel().\n",
            "  y = column_or_1d(y, warn=True)\n",
            "/usr/local/lib/python3.8/dist-packages/sklearn/neural_network/_multilayer_perceptron.py:1599: DataConversionWarning: A column-vector y was passed when a 1d array was expected. Please change the shape of y to (n_samples, ), for example using ravel().\n",
            "  y = column_or_1d(y, warn=True)\n"
          ]
        },
        {
          "output_type": "stream",
          "name": "stdout",
          "text": [
            "training score for liquid density:0.968\n",
            "test score for liquid density:0.830\n"
          ]
        },
        {
          "output_type": "display_data",
          "data": {
            "text/plain": [
              "<Figure size 432x288 with 1 Axes>"
            ],
            "image/png": "[encoded data removed]"
          },
          "metadata": {
            "needs_background": "light"
          }
        },
        {
          "output_type": "stream",
          "name": "stdout",
          "text": [
            "R squared value on liq total dataset:0.981\n",
            "R squared value on liq training set:0.975\n",
            "R squared value on liq test set:0.985\n"
          ]
        }
      ],
      "source": [
        "# ============= Start of your code =============\n",
        "# array\n",
        "df_array = df.values\n",
        "df_test_array = df_test.values\n",
        "\n",
        "# data X: Temperature (column 0) and Pressure (column 1)\n",
        "X = df.iloc[:, 0:2].values                         # training set\n",
        "X = np.array(X).reshape(len(X), 2)                 # training set reshape\n",
        "X_test = df_test.iloc[:, 0:2].values               # test set\n",
        "X_test = np.array(X_test).reshape(len(X_test), 2)  # test set reshape\n",
        "\n",
        "# data y1: Liquid Density (column 2)\n",
        "rou_l = df.iloc[:, 2].values                                   # training set\n",
        "rou_l = np.array(rou_l).reshape(len(rou_l), 1)                 # training set reshape\n",
        "rou_l_test = df_test.iloc[:, 2].values                         # test set\n",
        "rou_l_test = np.array(rou_l_test).reshape(len(rou_l_test), 1)  # test set reshape\n",
        "\n",
        "# data y2: Vapour Density (column 3)\n",
        "rou_v = df.iloc[:, 3].values                                   # training set\n",
        "rou_v = np.array(rou_v).reshape(len(rou_v), 1)                 # training set reshape\n",
        "rou_v_test = df_test.iloc[:, 3].values                         # test set\n",
        "rou_v_test = np.array(rou_v_test).reshape(len(rou_v_test), 1)  # test set reshape\n",
        "\n",
        "# combine: training set & test set\n",
        "X_all = np.vstack((X, X_test))              # X: Temperature & Pressure\n",
        "rou_l_all = np.vstack((rou_l, rou_l_test))  # y1: Liquid Density\n",
        "rou_v_all = np.vstack((rou_v, rou_v_test))  # y2: Vapour Density\n",
        "\n",
        "# cross validation: 5-fold\n",
        "cv_N = 5\n",
        "\n",
        "# neural network：liquid density\n",
        "pipe_rou_l = make_pipeline(\n",
        "    StandardScaler(),\n",
        "    MLPRegressor(random_state=0,\n",
        "                     hidden_layer_sizes=(24,),\n",
        "                     early_stopping=True,\n",
        "                     learning_rate='constant',\n",
        "                     learning_rate_init=9.9,\n",
        "                     batch_size=10,\n",
        "                     alpha=0.05,\n",
        "                     )\n",
        ")\n",
        "# neural network: training (liq)\n",
        "pipe_rou_l.fit(X, rou_l)\n",
        "\n",
        "# neural network: cross validation (liq)\n",
        "scores_l = cross_validate(pipe_rou_l, X_all, rou_l_all, cv=cv_N, return_train_score=True)\n",
        "train_score_mean_l = np.mean(scores_l['train_score'])  # average train_score\n",
        "test_score_mean_l = np.mean(scores_l['test_score'])    # average test_score\n",
        "print(f'training score for liquid density:{train_score_mean_l:.3f}')\n",
        "print(f'test score for liquid density:{test_score_mean_l:.3f}')\n",
        "\n",
        "# predict: training set & test set (liq)\n",
        "rou_l_perdicted = pipe_rou_l.predict(X_all)        # all\n",
        "rou_l_perdicted_train = pipe_rou_l.predict(X)      # training set\n",
        "rou_l_perdicted_test = pipe_rou_l.predict(X_test)  # test set\n",
        "\n",
        "# plot: actual values = predicted values (for contrast) (liq)\n",
        "plt.plot(rou_l_all.squeeze(), rou_l_all.squeeze().squeeze(), c='k')\n",
        "# plot: actual values vs. predicted values (liq)\n",
        "plt.scatter(rou_l_all.squeeze(), rou_l_perdicted, label='liquid density', c='#5ba4f0')\n",
        "\n",
        "plt.xlabel('Actual Value', fontsize=10)\n",
        "plt.ylabel('Predicted Value', fontsize=10)\n",
        "plt.legend()\n",
        "plt.show()\n",
        "\n",
        "# r2 score: liquid density prediction\n",
        "r2_l = r2_score(rou_l_all, rou_l_perdicted)             # all data\n",
        "r2_l_train = r2_score(rou_l, rou_l_perdicted_train)     # training set\n",
        "r2_l_test = r2_score(rou_l_test, rou_l_perdicted_test)  # test set\n",
        "print(f'R squared value on liq total dataset:{r2_l:.3f}')\n",
        "print(f'R squared value on liq training set:{r2_l_train:.3f}')\n",
        "print(f'R squared value on liq test set:{r2_l_test:.3f}')\n",
        "\n",
        "# ============= End of your code ============="
      ]
    },
    {
      "cell_type": "code",
      "source": [
        "# ============= Start of your code =============\n",
        "\n",
        "# neural network: vapour density\n",
        "pipe_rou_v = make_pipeline(\n",
        "    StandardScaler(),\n",
        "    MLPRegressor(random_state=0,\n",
        "                     hidden_layer_sizes=(29,),\n",
        "                     early_stopping=True,\n",
        "                     learning_rate='constant',\n",
        "                     learning_rate_init=10,\n",
        "                     batch_size=30,\n",
        "                     alpha=0.05,\n",
        "                     )\n",
        "\n",
        ")\n",
        "# neural network: training (vap)\n",
        "pipe_rou_v.fit(X, rou_v)\n",
        "\n",
        "# neural network: cross validation (vap)\n",
        "scores_v = cross_validate(pipe_rou_v, X_all, rou_v_all, cv=cv_N, return_train_score=True)\n",
        "train_score_mean_v = np.mean(scores_v['train_score'])  # average train_score\n",
        "test_score_mean_v = np.mean(scores_v['test_score'])    # average test_score\n",
        "print(f'training score for vapour density:{train_score_mean_v:.3f}')\n",
        "print(f'test score for vapour density:{test_score_mean_v:.3f}')\n",
        "\n",
        "# predict: training set & test set (vap)\n",
        "rou_v_predicted = pipe_rou_v.predict(X_all)        # all data\n",
        "rou_v_predicted_train = pipe_rou_v.predict(X)      # training set\n",
        "rou_v_predicted_test = pipe_rou_v.predict(X_test)  # test set\n",
        "\n",
        "# plot: actual values = predicted values (for contrast) (vap)\n",
        "plt.plot(rou_v_all.squeeze(), rou_v_all.squeeze().squeeze(), c='k')\n",
        "# plot: actual values vs. predicted values\n",
        "plt.scatter(rou_v_all.squeeze(), rou_v_predicted, label='vapour density', c='#ffcf4f')\n",
        "plt.xlabel('Actual Value', fontsize=10)\n",
        "plt.ylabel('Predicted Value', fontsize=10)\n",
        "plt.legend()\n",
        "plt.show()\n",
        "\n",
        "# r2 score: vapour density prediction\n",
        "r2_v = r2_score(rou_v_all, rou_v_predicted)             # all data\n",
        "r2_v_train = r2_score(rou_v, rou_v_predicted_train)     # training set\n",
        "r2_v_test = r2_score(rou_v_test, rou_v_predicted_test)  # test set\n",
        "print(f'R squared value on vap total dataset:{r2_v:.3f}')\n",
        "print(f'R squared value on vap training set:{r2_v_train:.3f}')\n",
        "print(f'R squared value on vap test set:{r2_v_test:.3f}')\n",
        "\n",
        "# ============= End of your code ============="
      ],
      "metadata": {
        "colab": {
          "base_uri": "https://localhost:8080/",
          "height": 629
        },
        "id": "jsAR7NysbqkQ",
        "outputId": "de8dcfdf-dedb-4fe8-9d15-6514a7452c41"
      },
      "execution_count": null,
      "outputs": [
        {
          "output_type": "stream",
          "name": "stderr",
          "text": [
            "/usr/local/lib/python3.8/dist-packages/sklearn/neural_network/_multilayer_perceptron.py:1599: DataConversionWarning: A column-vector y was passed when a 1d array was expected. Please change the shape of y to (n_samples, ), for example using ravel().\n",
            "  y = column_or_1d(y, warn=True)\n",
            "/usr/local/lib/python3.8/dist-packages/sklearn/neural_network/_multilayer_perceptron.py:611: UserWarning: Got `batch_size` less than 1 or larger than sample size. It is going to be clipped\n",
            "  warnings.warn(\n",
            "/usr/local/lib/python3.8/dist-packages/sklearn/neural_network/_multilayer_perceptron.py:1599: DataConversionWarning: A column-vector y was passed when a 1d array was expected. Please change the shape of y to (n_samples, ), for example using ravel().\n",
            "  y = column_or_1d(y, warn=True)\n",
            "/usr/local/lib/python3.8/dist-packages/sklearn/neural_network/_multilayer_perceptron.py:1599: DataConversionWarning: A column-vector y was passed when a 1d array was expected. Please change the shape of y to (n_samples, ), for example using ravel().\n",
            "  y = column_or_1d(y, warn=True)\n",
            "/usr/local/lib/python3.8/dist-packages/sklearn/neural_network/_multilayer_perceptron.py:1599: DataConversionWarning: A column-vector y was passed when a 1d array was expected. Please change the shape of y to (n_samples, ), for example using ravel().\n",
            "  y = column_or_1d(y, warn=True)\n",
            "/usr/local/lib/python3.8/dist-packages/sklearn/neural_network/_multilayer_perceptron.py:1599: DataConversionWarning: A column-vector y was passed when a 1d array was expected. Please change the shape of y to (n_samples, ), for example using ravel().\n",
            "  y = column_or_1d(y, warn=True)\n"
          ]
        },
        {
          "output_type": "stream",
          "name": "stdout",
          "text": [
            "training score for vapour density:0.935\n",
            "test score for vapour density:0.560\n"
          ]
        },
        {
          "output_type": "stream",
          "name": "stderr",
          "text": [
            "/usr/local/lib/python3.8/dist-packages/sklearn/neural_network/_multilayer_perceptron.py:1599: DataConversionWarning: A column-vector y was passed when a 1d array was expected. Please change the shape of y to (n_samples, ), for example using ravel().\n",
            "  y = column_or_1d(y, warn=True)\n"
          ]
        },
        {
          "output_type": "display_data",
          "data": {
            "text/plain": [
              "<Figure size 432x288 with 1 Axes>"
            ],
            "image/png": "[encoded data removed]"
          },
          "metadata": {
            "needs_background": "light"
          }
        },
        {
          "output_type": "stream",
          "name": "stdout",
          "text": [
            "R squared value on vap total dataset:0.993\n",
            "R squared value on vap training set:0.988\n",
            "R squared value on vap test set:0.996\n"
          ]
        }
      ]
    },
    {
      "cell_type": "markdown",
      "source": [
        "</font> <font color='red'> Your answer here </font>\n",
        "* Both models give decent performance with high R squared values."
      ],
      "metadata": {
        "id": "amw8ShttUS0F"
      }
    },
    {
      "cell_type": "markdown",
      "metadata": {
        "id": "J0PyKDRQwDR7"
      },
      "source": [
        "You discover that you know the real critical point - critical temperature, pressure and density"
      ]
    },
    {
      "cell_type": "code",
      "source": [
        "df_critical = pd.read_excel(directory_1, sheet_name='Critical Point')\n",
        "T_c = df_critical['Temperature / K'][0]\n",
        "P_c = df_critical['Pressure / Pa'][0]\n",
        "rho_c = df_critical['Density / (mol m^-3)'][0]"
      ],
      "metadata": {
        "id": "R-ydqwNNiwpf"
      },
      "execution_count": null,
      "outputs": []
    },
    {
      "cell_type": "markdown",
      "metadata": {
        "id": "osIU9vauwTDD"
      },
      "source": [
        " <font color='blue'>  Do both models make physical sense? </font>  <font color='red'> (2 pts) </font>"
      ]
    },
    {
      "cell_type": "code",
      "execution_count": null,
      "metadata": {
        "colab": {
          "base_uri": "https://localhost:8080/"
        },
        "id": "QUGz_SzcEH5J",
        "outputId": "2bbe593a-08f0-4c36-ba9a-1e0271396eb9"
      },
      "outputs": [
        {
          "output_type": "stream",
          "name": "stdout",
          "text": [
            "actual critical density:9596.032\n",
            "critical density by liquid density model:[16666.10832276]\n",
            "critical density by vapour density model:[5898.48313437]\n"
          ]
        }
      ],
      "source": [
        "# ============= Start of your code =============\n",
        "# critical point prediction\n",
        "\n",
        "# input data (critical temperature & pressure)\n",
        "X_c_0 = [T_c, P_c]\n",
        "X_c = np.array(X_c_0).reshape(1, 2)\n",
        "\n",
        "# prediction of critical density\n",
        "liquid_critical_density = pipe_rou_l.predict(X_c)  # by liquid density prediction model\n",
        "vapour_critical_density = pipe_rou_v.predict(X_c)  # by vapour density prediction model\n",
        "print(f'actual critical density:{rho_c}')\n",
        "print(f'critical density by liquid density model:{liquid_critical_density}')\n",
        "print(f'critical density by vapour density model:{vapour_critical_density}')\n",
        "# ============= End of your code ============="
      ]
    },
    {
      "cell_type": "markdown",
      "source": [
        "</font> <font color='red'> Your answer here </font>\n",
        "\n",
        "* Neither model can accurately predict the critical density.\n",
        "* This is because when a substance is in a critical state, the interface between gas and liquid disappears, which means the concept of liquid phase or gas phase does not exist. Either liquid model or vapor model cannot give an accurate prediction, there will be a big deviation."
      ],
      "metadata": {
        "id": "SmygHQS_U5Ce"
      }
    },
    {
      "cell_type": "markdown",
      "source": [
        "# ML models that make sense <font color='red'> (35 pts) </font>"
      ],
      "metadata": {
        "id": "mcFt249BUwpT"
      }
    },
    {
      "cell_type": "markdown",
      "metadata": {
        "id": "KUMNwd2bwZNl"
      },
      "source": [
        "<font color='blue'> Improve the model based on this physical insight. </font>. Similar tasks are very much at the forefront of Machine Learning research and open questions. Expecting a perfect fit on the critical point AND the rest of the dataset is unrealistic. <font color='blue'> Show your implementation and discuss how you came up for it. Include training and test scores for the liquid and vapour predictions, as well as the discrepancy of the dependent variableswith their expected critical point. </font>\n",
        "\n",
        "Some ideas:\n",
        "\n",
        "What mathematical relationships do you know about the critical point?\n",
        "\n",
        "Manual exploration using hyperparameters, data augmentation, hyperparameter tuning, ..."
      ]
    },
    {
      "cell_type": "code",
      "source": [
        "# ============= Start of your code =============\n",
        "'''Method 1'''\n",
        "\n",
        "# obtain dataset\n",
        "directory_1 = \"https://raw.githubusercontent.com/OptiMaL-PSE-Lab/ML-course/master/VLE%20prediction/Test-Dataset%20(no%20noise).xlsx\"\n",
        "directory_2 = \"https://raw.githubusercontent.com/OptiMaL-PSE-Lab/ML-course/master/VLE%20prediction/Data.xlsx\"\n",
        "# training set\n",
        "df = pd.read_excel(directory_2, sheet_name='PVT')\n",
        "# test set\n",
        "df_test = pd.read_excel(directory_1, sheet_name='PVT')\n",
        "\n",
        "df_array = df.values\n",
        "df_test_array = df_test.values\n",
        "\n",
        "# data: Density, pressure and corresponding temperature from specific temperature range\n",
        "# training set\n",
        "def cond1(t1,t2):\n",
        "    T_range = df[(df['Temperature / K'] > t1) & (df['Temperature / K'] < t2)]\n",
        "    return T_range\n",
        "# test set\n",
        "def cond2(t1,t2):\n",
        "    T_range_test = df_test[(df_test['Temperature / K'] > t1) & (df_test['Temperature / K'] < t2)]\n",
        "    return T_range_test\n",
        "\n",
        "# data: when T in range(200-400K)\n",
        "data_range = cond1(200, 400)       # training set\n",
        "data_range_test = cond2(200, 400)  # test set\n",
        "\n",
        "data_range = data_range.values\n",
        "data_range_test = data_range_test.values\n",
        "\n",
        "# data X: Temperature (column 0) and Pressure (column 2)\n",
        "X = data_range[:, [0, 2]]                          # training set\n",
        "X = np.array(X).reshape(len(X), 2)                 # training set reshape\n",
        "X_test = data_range_test[:, [0, 2]]                # test set\n",
        "X_test = np.array(X_test).reshape(len(X_test), 2)  # test set reshape\n",
        "\n",
        "# data y: Density (column 1)\n",
        "rou = data_range[:, 1]                                   # training set\n",
        "rou = np.array(rou).reshape(len(rou), 1)                 # training set reshape\n",
        "rou_test = data_range_test[:, 1]                         # test set\n",
        "rou_test = np.array(rou_test).reshape(len(rou_test), 1)  # test set reshape\n",
        "\n",
        "# combine: training set & test set\n",
        "X_all = np.vstack((X, X_test))        # X: Temperature & Pressure\n",
        "rou_all = np.vstack((rou, rou_test))  # y: Density\n",
        "\n",
        "# cross validation: 5-fold\n",
        "cv_N = 5\n",
        "\n",
        "# neural network\n",
        "pipe_cri = make_pipeline(\n",
        "    StandardScaler(),\n",
        "    MLPRegressor(random_state=0,\n",
        "                 hidden_layer_sizes=(50,),\n",
        "                 early_stopping=True,\n",
        "                 max_iter=500,\n",
        "                 learning_rate='constant',\n",
        "                 learning_rate_init=6,\n",
        "                 batch_size=32,\n",
        "                 alpha=0.05,\n",
        "                 )\n",
        ")\n",
        "# neural network: training\n",
        "pipe_cri.fit(X, rou)\n",
        "\n",
        "# neural network: cross validation\n",
        "scores_cri = cross_validate(pipe_cri, X_all, rou_all, cv=cv_N, return_train_score=True)\n",
        "train_score_mean_cri = np.mean(scores_cri['train_score'])  # average train_score\n",
        "test_score_mean_cri = np.mean(scores_cri['test_score'])    # average test_score\n",
        "print(f'training score:{train_score_mean_cri:.3f}')\n",
        "print(f'test score:{test_score_mean_cri:.3f}')\n",
        "\n",
        "# critical point prediction\n",
        "# obtain critical point data\n",
        "df_critical = pd.read_excel(directory_1, sheet_name='Critical Point')\n",
        "T_c = df_critical['Temperature / K'][0]\n",
        "P_c = df_critical['Pressure / Pa'][0]\n",
        "rho_c = df_critical['Density / (mol m^-3)'][0]\n",
        "\n",
        "# input data (critical temperature & pressure)\n",
        "X_c_0 = [T_c, P_c]\n",
        "X_c = np.array(X_c_0).reshape(1, 2)\n",
        "# prediction of critical density\n",
        "critical_density_predicted = pipe_cri.predict(X_c)\n",
        "print(f'actual critical density:{rho_c}')\n",
        "print(f'critical density by large dataset model:{critical_density_predicted}')\n",
        "\n",
        "# predict: training set & test set\n",
        "pipe_cri_predict_train = pipe_cri.predict(X)      # training set\n",
        "pipe_cri_predict_test = pipe_cri.predict(X_test)  # test set\n",
        "\n",
        "# plot: actual values = predicted values (for contrast)\n",
        "plt.plot(rou.squeeze(), rou.squeeze(), c='k')\n",
        "# plot: actual values vs. values predicted by training set input\n",
        "plt.scatter(rou.squeeze(), pipe_cri_predict_train.squeeze(), label='Training-rou', c='#5ba4f0')\n",
        "# plot: actual values vs. values predicted by test input\n",
        "plt.scatter(rou_test.squeeze(), pipe_cri_predict_test.squeeze(), label='Test-rou', c='#ffcf4f')\n",
        "\n",
        "plt.xlabel('Actual Value', fontsize=10)\n",
        "plt.ylabel('Predicted Value', fontsize=10)\n",
        "plt.legend()\n",
        "plt.show()\n",
        "# ============= End of your code ============="
      ],
      "metadata": {
        "id": "5LoJhu3WWXsi",
        "colab": {
          "base_uri": "https://localhost:8080/",
          "height": 577
        },
        "outputId": "0d710771-100f-47ea-e750-dba9365edb88"
      },
      "execution_count": null,
      "outputs": [
        {
          "output_type": "stream",
          "name": "stderr",
          "text": [
            "/usr/local/lib/python3.8/dist-packages/sklearn/neural_network/_multilayer_perceptron.py:1599: DataConversionWarning: A column-vector y was passed when a 1d array was expected. Please change the shape of y to (n_samples, ), for example using ravel().\n",
            "  y = column_or_1d(y, warn=True)\n",
            "/usr/local/lib/python3.8/dist-packages/sklearn/neural_network/_multilayer_perceptron.py:1599: DataConversionWarning: A column-vector y was passed when a 1d array was expected. Please change the shape of y to (n_samples, ), for example using ravel().\n",
            "  y = column_or_1d(y, warn=True)\n",
            "/usr/local/lib/python3.8/dist-packages/sklearn/neural_network/_multilayer_perceptron.py:1599: DataConversionWarning: A column-vector y was passed when a 1d array was expected. Please change the shape of y to (n_samples, ), for example using ravel().\n",
            "  y = column_or_1d(y, warn=True)\n",
            "/usr/local/lib/python3.8/dist-packages/sklearn/neural_network/_multilayer_perceptron.py:1599: DataConversionWarning: A column-vector y was passed when a 1d array was expected. Please change the shape of y to (n_samples, ), for example using ravel().\n",
            "  y = column_or_1d(y, warn=True)\n",
            "/usr/local/lib/python3.8/dist-packages/sklearn/neural_network/_multilayer_perceptron.py:1599: DataConversionWarning: A column-vector y was passed when a 1d array was expected. Please change the shape of y to (n_samples, ), for example using ravel().\n",
            "  y = column_or_1d(y, warn=True)\n",
            "/usr/local/lib/python3.8/dist-packages/sklearn/neural_network/_multilayer_perceptron.py:1599: DataConversionWarning: A column-vector y was passed when a 1d array was expected. Please change the shape of y to (n_samples, ), for example using ravel().\n",
            "  y = column_or_1d(y, warn=True)\n"
          ]
        },
        {
          "output_type": "stream",
          "name": "stdout",
          "text": [
            "training score:0.889\n",
            "test score:0.886\n",
            "actual critical density:9596.032\n",
            "critical density by large dataset model:[9546.58956195]\n"
          ]
        },
        {
          "output_type": "display_data",
          "data": {
            "text/plain": [
              "<Figure size 432x288 with 1 Axes>"
            ],
            "image/png": "[encoded data removed]"
          },
          "metadata": {
            "needs_background": "light"
          }
        }
      ]
    },
    {
      "cell_type": "code",
      "source": [
        "# ============= Start of your code =============\n",
        "'''Method 2'''\n",
        "\n",
        "'''\n",
        "* mathematical relationship of critical point on P-V graph:\n",
        "  dP/dV based on critical temperature = 0\n",
        "* rou = M * 1/V, which means 1/rou is proportional to V\n",
        "  so P-V graph is equivalent to P-(1/rou) graph in exception of scale\n",
        "  when derivative of the function = 0, corresponding density is critical density\n",
        "* Pressure increase, liquid density decrease, vapour density increase\n",
        "  want (1/rou) from small to big:\n",
        "  start with biggest liquid density, to lowest liquid density = pressure from low to high\n",
        "  then biggest vapour density, lowest vapour density = pressure from high to low\n",
        "  input = ascending pressure(for 1/rou(liq)) + descending pressure(for 1/rou(vap)) (use flip)\n",
        "'''\n",
        "\n",
        "\n",
        "# obtain dataset\n",
        "directory_2 = \"https://raw.githubusercontent.com/OptiMaL-PSE-Lab/ML-course/master/VLE%20prediction/Data.xlsx\"\n",
        "directory_1 = \"https://raw.githubusercontent.com/OptiMaL-PSE-Lab/ML-course/master/VLE%20prediction/Test-Dataset%20(no%20noise).xlsx\"\n",
        "# training set\n",
        "df_test = pd.read_excel(directory_1, sheet_name='Phase Envelope')\n",
        "# test set\n",
        "df = pd.read_excel(directory_2, sheet_name='Phase Envelope')\n",
        "\n",
        "df_array = df.values\n",
        "df_test_array = df_test.values\n",
        "\n",
        "'''\n",
        "* mathematical relationship of critical point on P-V graph:\n",
        "  dP/dV based on critical temperature = 0\n",
        "* rou = M * 1/V, which means 1/rou is proportional to V\n",
        "  so P-V graph is equivalent to P-(1/rou) graph in exception of scale\n",
        "  when derivative of the function = 0, corresponding density is critical density\n",
        "* Pressure increase, liquid density decrease, vapour density increase\n",
        "  want (1/rou) from small to big:\n",
        "  start with biggest liquid density, to lowest liquid density = pressure from low to high\n",
        "  then biggest vapour density, lowest vapour density = pressure from high to low\n",
        "  input = ascending pressure(for 1/rou(liq)) + descending pressure(for 1/rou(vap)) (use flip)\n",
        "'''\n",
        "\n",
        "\n",
        "# training set\n",
        "\n",
        "# data X: Pressure (column 1)\n",
        "P = df.iloc[:, 1].values                             # data\n",
        "P = np.array(P).reshape(len(P), 1)                   # reshape\n",
        "# combine P(ascending) + P(descending)\n",
        "P_stack = P = np.vstack((P, np.flip(P)))             # training set input array\n",
        "\n",
        "# data y1: 1/(Liquid Density) (column 2)\n",
        "rou_l = df.iloc[:, 2].values                         # data\n",
        "rou_l = np.array(rou_l).reshape(len(rou_l), 1)       # reshape\n",
        "rou_l_re = np.true_divide(1, rou_l)                  # calculate 1/rou(liq)\n",
        "\n",
        "# data y2: 1/(Vapour Density) (column 3)\n",
        "rou_v = df.iloc[:, 3].values                         # data\n",
        "rou_v = np.array(rou_v).reshape(len(rou_v), 1)       # reshape\n",
        "rou_v_re = np.flip(np.true_divide(1, rou_v))         # calculate 1/rou(vap)\n",
        "\n",
        "# combine: 1/rou(liq) & 1/rou(vap)\n",
        "# amplify by 1000 times to make numbers clear\n",
        "rou_re_all_train = np.multiply(np.vstack((rou_l_re, rou_v_re)), 1000)\n",
        "\n",
        "\n",
        "# test set\n",
        "\n",
        "# data X: Pressure (column 1)\n",
        "P_test = df_test.iloc[:, 1].values                             # data\n",
        "P_test = np.array(P_test).reshape(len(P_test), 1)              # reshape\n",
        "# combine P(ascending) + P(descending)\n",
        "P_test_stack = np.vstack((P_test, np.flip(P_test)))            # test set input array\n",
        "\n",
        "# data y1: 1/(Liquid Density) (column 2)\n",
        "rou_l_test = df_test.iloc[:, 2].values                         # data\n",
        "rou_l_test = np.array(rou_l_test).reshape(len(rou_l_test), 1)  # reshape\n",
        "rou_l_re_test = np.true_divide(1, rou_l_test)                  # calculate 1/rou(liq)\n",
        "\n",
        "# data y2: 1/(Vapour Density) (column 3)\n",
        "rou_v_test = df_test.iloc[:, 3].values                         # data\n",
        "rou_v_test = np.array(rou_v_test).reshape(len(rou_v_test), 1)  # reshape\n",
        "rou_v_re_test = np.flip(np.true_divide(1, rou_v_test))         # calculate 1/rou(vap)\n",
        "\n",
        "# combine: 1/rou(liq) & 1/rou(vap)\n",
        "# amplify by 1000 times to make numbers clear\n",
        "rou_re_all_test = np.multiply(np.vstack((rou_l_re_test, rou_v_re_test)), 1000)\n",
        "\n",
        "# combine: training set & test set\n",
        "P_all = np.vstack((P_stack, P_test_stack))                   # X: Pressure\n",
        "rou_re_all = np.vstack((rou_re_all_train, rou_re_all_test))  # y: 1/rou(liq) & 1/rou(vap)\n",
        "\n",
        "\n",
        "# cross validation: 5-fold\n",
        "cv_N = 5\n",
        "\n",
        "# neural network: P-(1/rou)\n",
        "pipe_new = make_pipeline(\n",
        "    StandardScaler(),\n",
        "    MLPRegressor(random_state=0,\n",
        "                 solver='lbfgs',\n",
        "                 hidden_layer_sizes=(41, 45),\n",
        "                 early_stopping=True,\n",
        "                 learning_rate='adaptive',\n",
        "                 alpha=0.0009,\n",
        "                 max_iter=1000,\n",
        "                 )\n",
        ")\n",
        "# neural network: training\n",
        "pipe_new.fit(rou_re_all_train, P_stack)\n",
        "\n",
        "# neural network: cross validation\n",
        "scores_new = cross_validate(pipe_new, rou_re_all, P_all, cv=cv_N, return_train_score=True)\n",
        "train_score_mean_new = np.mean(scores_new['train_score'])  # average train_score\n",
        "test_score_mean_new = np.mean(scores_new['test_score'])    # average test_score\n",
        "print(f'training score for liquid density:{train_score_mean_new:.3f}')\n",
        "print(f'test score for liquid density:{test_score_mean_new:.3f}')\n",
        "\n",
        "# predict: training set & test set\n",
        "P_pre_train = pipe_new.predict(rou_re_all_train)  # training set\n",
        "P_pre_test = pipe_new.predict(rou_re_all_test)    # test set\n",
        "\n",
        "# plot: visualisation of neural network\n",
        "plt.plot(rou_re_all_train, P_pre_train, label='training set', c='m')\n",
        "plt.plot(rou_re_all_test, P_pre_test, label='test set', c='c')\n",
        "# plot: actual values\n",
        "plt.scatter(rou_re_all_train.squeeze(), P, label='training set', c='#5ba4f0')\n",
        "plt.scatter(rou_re_all_test.squeeze(), P_test_stack, label='test set', c='#ffcf4f')\n",
        "\n",
        "plt.xlabel('1/rou', fontsize=10)\n",
        "plt.ylabel('P', fontsize=10)\n",
        "plt.legend()\n",
        "plt.show()\n",
        "\n",
        "# r2 score\n",
        "r2_cri_train = r2_score(P_stack, P_pre_train)     # training set\n",
        "r2_cri_test = r2_score(P_test_stack, P_pre_test)  # test set\n",
        "print(f'r2 score for train set:{r2_cri_train:.3f}')\n",
        "print(f'r2 score for test set:{r2_cri_test:.3f}')\n",
        "\n",
        "# critical point values\n",
        "df_critical = pd.read_excel(directory_1, sheet_name='Critical Point')\n",
        "T_c = df_critical['Temperature / K'][0]\n",
        "P_c = df_critical['Pressure / Pa'][0]\n",
        "rho_c = df_critical['Density / (mol m^-3)'][0]\n",
        "\n",
        "# critical density prediction\n",
        "\n",
        "# 2 neighbour values(list) for derivatives calculation\n",
        "x1 = [0]\n",
        "x2 = [0]\n",
        "\n",
        "# take the derivatives of density in range(9300,9900)\n",
        "for i in np.linspace(9300, 9900, 10000):\n",
        "    x1[0] = i\n",
        "    x2[0] = i + 0.1  # delta x = 0.1\n",
        "    # reshape data for prediction\n",
        "    x1 = np.array(x1).reshape(1, -1)\n",
        "    x2 = np.array(x2).reshape(1, -1)\n",
        "    # predict value\n",
        "    P1 = pipe_new.predict(1000*1/x1)\n",
        "    P2 = pipe_new.predict(1000*1/x2)\n",
        "    # calculate derivatives\n",
        "    dif = (P1 - P2)/0.1\n",
        "    # derivatives should be small\n",
        "    if dif >= -5 and dif <= 5:\n",
        "        x1[0] = np.round(x1[0], 3)  # round up\n",
        "        x1 = x1[0]\n",
        "        predicted_cri_den = x1[0]\n",
        "        # error calculation\n",
        "        error = (predicted_cri_den - rho_c)/rho_c\n",
        "        print(f'critical density actual value:{rho_c}')\n",
        "        print(f'critical density predicted value:{predicted_cri_den}')\n",
        "        print(f'error:{np.round(error,4)}')\n",
        "# ============= End of your code ============="
      ],
      "metadata": {
        "colab": {
          "base_uri": "https://localhost:8080/",
          "height": 744
        },
        "id": "vnfd4tbASemT",
        "outputId": "a669dadc-6fb7-433e-8f94-2ec0a63f8370"
      },
      "execution_count": null,
      "outputs": [
        {
          "output_type": "stream",
          "name": "stderr",
          "text": [
            "/usr/local/lib/python3.8/dist-packages/sklearn/neural_network/_multilayer_perceptron.py:1599: DataConversionWarning: A column-vector y was passed when a 1d array was expected. Please change the shape of y to (n_samples, ), for example using ravel().\n",
            "  y = column_or_1d(y, warn=True)\n",
            "/usr/local/lib/python3.8/dist-packages/sklearn/neural_network/_multilayer_perceptron.py:1599: DataConversionWarning: A column-vector y was passed when a 1d array was expected. Please change the shape of y to (n_samples, ), for example using ravel().\n",
            "  y = column_or_1d(y, warn=True)\n",
            "/usr/local/lib/python3.8/dist-packages/sklearn/neural_network/_multilayer_perceptron.py:549: ConvergenceWarning: lbfgs failed to converge (status=1):\n",
            "STOP: TOTAL NO. of ITERATIONS REACHED LIMIT.\n",
            "\n",
            "Increase the number of iterations (max_iter) or scale the data as shown in:\n",
            "    https://scikit-learn.org/stable/modules/preprocessing.html\n",
            "  self.n_iter_ = _check_optimize_result(\"lbfgs\", opt_res, self.max_iter)\n",
            "/usr/local/lib/python3.8/dist-packages/sklearn/neural_network/_multilayer_perceptron.py:1599: DataConversionWarning: A column-vector y was passed when a 1d array was expected. Please change the shape of y to (n_samples, ), for example using ravel().\n",
            "  y = column_or_1d(y, warn=True)\n",
            "/usr/local/lib/python3.8/dist-packages/sklearn/neural_network/_multilayer_perceptron.py:1599: DataConversionWarning: A column-vector y was passed when a 1d array was expected. Please change the shape of y to (n_samples, ), for example using ravel().\n",
            "  y = column_or_1d(y, warn=True)\n",
            "/usr/local/lib/python3.8/dist-packages/sklearn/neural_network/_multilayer_perceptron.py:1599: DataConversionWarning: A column-vector y was passed when a 1d array was expected. Please change the shape of y to (n_samples, ), for example using ravel().\n",
            "  y = column_or_1d(y, warn=True)\n",
            "/usr/local/lib/python3.8/dist-packages/sklearn/neural_network/_multilayer_perceptron.py:1599: DataConversionWarning: A column-vector y was passed when a 1d array was expected. Please change the shape of y to (n_samples, ), for example using ravel().\n",
            "  y = column_or_1d(y, warn=True)\n"
          ]
        },
        {
          "output_type": "stream",
          "name": "stdout",
          "text": [
            "training score for liquid density:0.996\n",
            "test score for liquid density:0.990\n"
          ]
        },
        {
          "output_type": "display_data",
          "data": {
            "text/plain": [
              "<Figure size 432x288 with 1 Axes>"
            ],
            "image/png": "[encoded data removed]"
          },
          "metadata": {
            "needs_background": "light"
          }
        },
        {
          "output_type": "stream",
          "name": "stdout",
          "text": [
            "r2 score for train set:0.992\n",
            "r2 score for test set:0.995\n",
            "critical density actual value:9596.032\n",
            "critical density predicted value:9870.837\n",
            "error:0.0286\n"
          ]
        }
      ]
    },
    {
      "cell_type": "markdown",
      "source": [
        "</font> <font color='red'> Your answer here </font>\n",
        "\n",
        "* At the critical point, only one phase exists. The heat of vaporization is zero. There is a stationary inflection point in the constant-temperature line on a P-V diagram. At the critical point exists a mathematical relationship:\n",
        "(Note: $T_{c}$ refers to critical temperature)\n",
        "$$ \\displaystyle \\Bigg[\\frac{\\partial P}{\\partial V}\\Bigg]_{T_{c}} = 0 $$\n",
        "$$ \\displaystyle \\Bigg[\\frac{\\partial^{2} P}{\\partial V^{2}}\\Bigg]_{T_{c}} = 0 $$\n",
        "\n",
        "\n",
        "* From the phase envelope data, we find that at temperatures below the critical temperature (304 K), there may be a coexistence of gas and liquid phases.\n",
        "* As the temperature increases and the system pressure increases, the density of the liquid phase decreases due to volume expansion and the density of the gas phase increases due to compression. The difference between the densities of the liquid and gas phases gradually decreases.\n",
        "* When the temperature gets to the critical temperature, the boundary between the gas and liquid phases disappears and the two phases have the same density.\n",
        "\n",
        "* In Method 1, we tried to make a better prediction of the critical point by selecting the data near the critical point. Since data far from the critical point will have a large density difference between liquid and gas phases, which is inconsistent with the condition at the critical point, the accuracy of the model will decrease if these data are included. The critical temperature is 304.17 K, considering the amount of data, we selected data with temperature between 200K and 400K as a new dataset to construct the model.\n",
        "\n",
        "\n",
        "* In Method 2, we fit the liquid phase density and the gas phase density at a certain pressure in the phase envelope through the neural network, and then combine the two curves of density variation with pressure to finally find the point of minimum density variation, which is the critical point, and the pressure corresponding to the critical point is the critical pressure.\n"
      ],
      "metadata": {
        "id": "Sz7V-OpeVgUX"
      }
    }
  ],
  "metadata": {
    "colab": {
      "provenance": [],
      "include_colab_link": true
    },
    "kernelspec": {
      "display_name": "Python 3",
      "name": "python3"
    },
    "language_info": {
      "name": "python"
    }
  },
  "nbformat": 4,
  "nbformat_minor": 0
}